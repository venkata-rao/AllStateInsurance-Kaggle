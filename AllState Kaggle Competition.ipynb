{
 "cells": [
  {
   "cell_type": "code",
   "execution_count": 2,
   "metadata": {
    "collapsed": false,
    "scrolled": true
   },
   "outputs": [],
   "source": [
    "setwd(\"C:/Kaggle/Allstate Claims\")"
   ]
  },
  {
   "cell_type": "code",
   "execution_count": 2,
   "metadata": {
    "collapsed": false,
    "scrolled": true
   },
   "outputs": [
    {
     "data": {
      "text/html": [
       "<ol class=list-inline>\n",
       "\t<li>'sample_submission.csv'</li>\n",
       "\t<li>'sample_submission.csv.zip'</li>\n",
       "\t<li>'test.csv'</li>\n",
       "\t<li>'test.csv.zip'</li>\n",
       "\t<li>'train.csv'</li>\n",
       "\t<li>'train.csv.zip'</li>\n",
       "</ol>\n"
      ],
      "text/latex": [
       "\\begin{enumerate*}\n",
       "\\item 'sample\\_submission.csv'\n",
       "\\item 'sample\\_submission.csv.zip'\n",
       "\\item 'test.csv'\n",
       "\\item 'test.csv.zip'\n",
       "\\item 'train.csv'\n",
       "\\item 'train.csv.zip'\n",
       "\\end{enumerate*}\n"
      ],
      "text/markdown": [
       "1. 'sample_submission.csv'\n",
       "2. 'sample_submission.csv.zip'\n",
       "3. 'test.csv'\n",
       "4. 'test.csv.zip'\n",
       "5. 'train.csv'\n",
       "6. 'train.csv.zip'\n",
       "\n",
       "\n"
      ],
      "text/plain": [
       "[1] \"sample_submission.csv\"     \"sample_submission.csv.zip\"\n",
       "[3] \"test.csv\"                  \"test.csv.zip\"             \n",
       "[5] \"train.csv\"                 \"train.csv.zip\"            "
      ]
     },
     "metadata": {},
     "output_type": "display_data"
    }
   ],
   "source": [
    "list.files()"
   ]
  },
  {
   "cell_type": "code",
   "execution_count": 3,
   "metadata": {
    "collapsed": true,
    "scrolled": true
   },
   "outputs": [],
   "source": [
    "indata <- read.csv(\"train.csv\")"
   ]
  },
  {
   "cell_type": "code",
   "execution_count": 4,
   "metadata": {
    "collapsed": false,
    "scrolled": true
   },
   "outputs": [
    {
     "data": {
      "text/html": [
       "<ol class=list-inline>\n",
       "\t<li>188318</li>\n",
       "\t<li>132</li>\n",
       "</ol>\n"
      ],
      "text/latex": [
       "\\begin{enumerate*}\n",
       "\\item 188318\n",
       "\\item 132\n",
       "\\end{enumerate*}\n"
      ],
      "text/markdown": [
       "1. 188318\n",
       "2. 132\n",
       "\n",
       "\n"
      ],
      "text/plain": [
       "[1] 188318    132"
      ]
     },
     "metadata": {},
     "output_type": "display_data"
    }
   ],
   "source": [
    "dim(indata)"
   ]
  },
  {
   "cell_type": "code",
   "execution_count": 8,
   "metadata": {
    "collapsed": false,
    "scrolled": true
   },
   "outputs": [
    {
     "name": "stdout",
     "output_type": "stream",
     "text": [
      "'data.frame':\t188318 obs. of  83 variables:\n",
      " $ cat49 : Factor w/ 2 levels \"A\",\"B\": 1 1 1 1 1 1 1 1 1 1 ...\n",
      " $ cat50 : Factor w/ 2 levels \"A\",\"B\": 1 1 1 1 1 1 1 1 1 2 ...\n",
      " $ cat51 : Factor w/ 2 levels \"A\",\"B\": 1 1 1 1 1 1 1 1 1 1 ...\n",
      " $ cat52 : Factor w/ 2 levels \"A\",\"B\": 1 1 1 1 1 1 1 1 1 2 ...\n",
      " $ cat53 : Factor w/ 2 levels \"A\",\"B\": 1 1 1 1 1 1 1 1 1 1 ...\n",
      " $ cat54 : Factor w/ 2 levels \"A\",\"B\": 1 1 1 1 1 1 1 1 1 1 ...\n",
      " $ cat55 : Factor w/ 2 levels \"A\",\"B\": 1 1 1 1 1 1 1 1 1 1 ...\n",
      " $ cat56 : Factor w/ 2 levels \"A\",\"B\": 1 1 1 1 1 1 1 1 1 1 ...\n",
      " $ cat57 : Factor w/ 2 levels \"A\",\"B\": 1 1 1 1 1 1 1 1 1 1 ...\n",
      " $ cat58 : Factor w/ 2 levels \"A\",\"B\": 1 1 1 1 1 1 1 1 1 1 ...\n",
      " $ cat59 : Factor w/ 2 levels \"A\",\"B\": 1 1 1 1 1 1 1 1 1 1 ...\n",
      " $ cat60 : Factor w/ 2 levels \"A\",\"B\": 1 1 1 1 1 1 1 1 1 1 ...\n",
      " $ cat61 : Factor w/ 2 levels \"A\",\"B\": 1 1 1 1 1 1 1 1 1 1 ...\n",
      " $ cat62 : Factor w/ 2 levels \"A\",\"B\": 1 1 1 1 1 1 1 1 1 1 ...\n",
      " $ cat63 : Factor w/ 2 levels \"A\",\"B\": 1 1 1 1 1 1 1 1 1 1 ...\n",
      " $ cat64 : Factor w/ 2 levels \"A\",\"B\": 1 1 1 1 1 1 1 1 1 1 ...\n",
      " $ cat65 : Factor w/ 2 levels \"A\",\"B\": 1 1 1 1 1 1 1 1 1 1 ...\n",
      " $ cat66 : Factor w/ 2 levels \"A\",\"B\": 1 1 1 1 1 1 1 1 1 1 ...\n",
      " $ cat67 : Factor w/ 2 levels \"A\",\"B\": 1 1 1 1 1 1 1 1 1 1 ...\n",
      " $ cat68 : Factor w/ 2 levels \"A\",\"B\": 1 1 1 1 1 1 1 1 1 1 ...\n",
      " $ cat69 : Factor w/ 2 levels \"A\",\"B\": 1 1 1 1 1 1 1 1 1 1 ...\n",
      " $ cat70 : Factor w/ 2 levels \"A\",\"B\": 1 1 1 1 1 1 1 1 1 1 ...\n",
      " $ cat71 : Factor w/ 2 levels \"A\",\"B\": 1 1 1 1 1 1 1 1 1 1 ...\n",
      " $ cat72 : Factor w/ 2 levels \"A\",\"B\": 1 1 1 1 2 2 1 1 2 1 ...\n",
      " $ cat73 : Factor w/ 3 levels \"A\",\"B\",\"C\": 1 1 1 2 1 1 1 1 1 1 ...\n",
      " $ cat74 : Factor w/ 3 levels \"A\",\"B\",\"C\": 1 1 1 1 1 1 1 1 1 1 ...\n",
      " $ cat75 : Factor w/ 3 levels \"A\",\"B\",\"C\": 2 1 1 1 1 1 1 1 1 1 ...\n",
      " $ cat76 : Factor w/ 3 levels \"A\",\"B\",\"C\": 1 1 1 1 1 1 1 1 1 1 ...\n",
      " $ cat77 : Factor w/ 4 levels \"A\",\"B\",\"C\",\"D\": 4 4 4 4 4 4 4 4 4 4 ...\n",
      " $ cat78 : Factor w/ 4 levels \"A\",\"B\",\"C\",\"D\": 2 2 2 2 2 2 2 2 2 2 ...\n",
      " $ cat79 : Factor w/ 4 levels \"A\",\"B\",\"C\",\"D\": 2 2 2 2 4 4 2 4 4 2 ...\n",
      " $ cat80 : Factor w/ 4 levels \"A\",\"B\",\"C\",\"D\": 4 4 2 4 2 2 4 2 2 2 ...\n",
      " $ cat81 : Factor w/ 4 levels \"A\",\"B\",\"C\",\"D\": 4 4 4 4 4 4 4 4 2 2 ...\n",
      " $ cat82 : Factor w/ 4 levels \"A\",\"B\",\"C\",\"D\": 2 1 2 4 2 2 2 1 2 2 ...\n",
      " $ cat83 : Factor w/ 4 levels \"A\",\"B\",\"C\",\"D\": 4 2 4 2 2 2 4 2 2 2 ...\n",
      " $ cat84 : Factor w/ 4 levels \"A\",\"B\",\"C\",\"D\": 3 3 3 3 3 3 3 3 3 3 ...\n",
      " $ cat85 : Factor w/ 4 levels \"A\",\"B\",\"C\",\"D\": 2 2 2 2 2 2 2 2 2 2 ...\n",
      " $ cat86 : Factor w/ 4 levels \"A\",\"B\",\"C\",\"D\": 4 4 2 4 2 2 2 4 4 4 ...\n",
      " $ cat87 : Factor w/ 4 levels \"A\",\"B\",\"C\",\"D\": 2 2 2 2 3 2 2 3 4 3 ...\n",
      " $ cat88 : Factor w/ 4 levels \"A\",\"B\",\"D\",\"E\": 1 1 1 1 1 1 1 3 1 3 ...\n",
      " $ cat89 : Factor w/ 8 levels \"A\",\"B\",\"C\",\"D\",..: 1 1 1 1 1 1 1 1 1 1 ...\n",
      " $ cat90 : Factor w/ 7 levels \"A\",\"B\",\"C\",\"D\",..: 1 1 1 1 1 1 1 1 2 1 ...\n",
      " $ cat91 : Factor w/ 8 levels \"A\",\"B\",\"C\",\"D\",..: 1 1 1 1 2 1 1 1 1 2 ...\n",
      " $ cat92 : Factor w/ 7 levels \"A\",\"B\",\"C\",\"D\",..: 1 1 1 1 6 1 1 1 1 6 ...\n",
      " $ cat93 : Factor w/ 5 levels \"A\",\"B\",\"C\",\"D\",..: 4 4 4 4 4 4 4 3 4 4 ...\n",
      " $ cat94 : Factor w/ 7 levels \"A\",\"B\",\"C\",\"D\",..: 2 4 4 4 2 4 4 2 3 2 ...\n",
      " $ cat95 : Factor w/ 5 levels \"A\",\"B\",\"C\",\"D\",..: 3 3 3 3 4 4 4 3 3 3 ...\n",
      " $ cat96 : Factor w/ 8 levels \"A\",\"B\",\"C\",\"D\",..: 5 5 5 5 5 5 5 5 5 5 ...\n",
      " $ cat97 : Factor w/ 7 levels \"A\",\"B\",\"C\",\"D\",..: 1 5 5 5 5 3 3 1 3 1 ...\n",
      " $ cat98 : Factor w/ 5 levels \"A\",\"B\",\"C\",\"D\",..: 3 4 1 4 1 1 1 3 4 3 ...\n",
      " $ cat99 : Factor w/ 16 levels \"C\",\"D\",\"E\",\"F\",..: 16 16 2 16 13 13 13 16 16 16 ...\n",
      " $ cat100: Factor w/ 15 levels \"A\",\"B\",\"C\",\"D\",..: 2 12 12 9 6 10 10 8 3 6 ...\n",
      " $ cat101: Factor w/ 19 levels \"A\",\"B\",\"C\",\"D\",..: 7 6 15 4 10 4 1 3 16 4 ...\n",
      " $ cat102: Factor w/ 9 levels \"A\",\"B\",\"C\",\"D\",..: 1 1 1 1 1 1 1 1 1 1 ...\n",
      " $ cat103: Factor w/ 13 levels \"A\",\"B\",\"C\",\"D\",..: 1 1 2 1 1 1 3 1 3 6 ...\n",
      " $ cat104: Factor w/ 17 levels \"A\",\"B\",\"C\",\"D\",..: 9 5 5 5 4 5 5 11 8 11 ...\n",
      " $ cat105: Factor w/ 20 levels \"A\",\"B\",\"C\",\"D\",..: 5 5 6 5 5 5 5 6 6 8 ...\n",
      " $ cat106: Factor w/ 17 levels \"A\",\"B\",\"C\",\"D\",..: 7 9 8 9 11 8 8 6 7 7 ...\n",
      " $ cat107: Factor w/ 20 levels \"A\",\"B\",\"C\",\"D\",..: 10 11 6 11 7 6 6 9 13 10 ...\n",
      " $ cat108: Factor w/ 11 levels \"A\",\"B\",\"C\",\"D\",..: 7 11 1 11 2 2 2 7 11 7 ...\n",
      " $ cat109: Factor w/ 84 levels \"A\",\"AA\",\"AB\",..: 46 34 3 34 67 34 34 34 34 46 ...\n",
      " $ cat110: Factor w/ 131 levels \"A\",\"AA\",\"AB\",..: 29 66 86 68 51 68 86 103 29 98 ...\n",
      " $ cat111: Factor w/ 16 levels \"A\",\"B\",\"C\",\"D\",..: 3 1 1 3 3 1 1 7 3 1 ...\n",
      " $ cat112: Factor w/ 51 levels \"A\",\"AA\",\"AB\",..: 20 23 29 40 51 20 36 9 37 47 ...\n",
      " $ cat113: Factor w/ 61 levels \"A\",\"AB\",\"AC\",..: 56 39 6 5 39 5 6 61 24 56 ...\n",
      " $ cat114: Factor w/ 19 levels \"A\",\"B\",\"C\",\"D\",..: 1 1 1 1 1 1 1 1 1 9 ...\n",
      " $ cat115: Factor w/ 23 levels \"A\",\"B\",\"C\",\"D\",..: 15 15 9 15 11 11 11 16 17 15 ...\n",
      " $ cat116: Factor w/ 326 levels \"AA\",\"AB\",\"AC\",..: 270 86 154 80 56 80 80 283 199 291 ...\n",
      " $ cont1 : num  0.726 0.331 0.262 0.322 0.273 ...\n",
      " $ cont2 : num  0.246 0.737 0.358 0.556 0.16 ...\n",
      " $ cont3 : num  0.188 0.593 0.484 0.528 0.528 ...\n",
      " $ cont4 : num  0.79 0.614 0.237 0.374 0.473 ...\n",
      " $ cont5 : num  0.31 0.886 0.397 0.422 0.704 ...\n",
      " $ cont6 : num  0.718 0.439 0.29 0.441 0.178 ...\n",
      " $ cont7 : num  0.335 0.437 0.316 0.391 0.247 ...\n",
      " $ cont8 : num  0.303 0.601 0.273 0.318 0.246 ...\n",
      " $ cont9 : num  0.671 0.351 0.261 0.321 0.221 ...\n",
      " $ cont10: num  0.835 0.439 0.324 0.445 0.212 ...\n",
      " $ cont11: num  0.57 0.338 0.381 0.328 0.205 ...\n",
      " $ cont12: num  0.595 0.366 0.373 0.322 0.202 ...\n",
      " $ cont13: num  0.822 0.611 0.196 0.605 0.246 ...\n",
      " $ cont14: num  0.715 0.304 0.774 0.603 0.433 ...\n",
      " $ loss  : num  2213 1284 3005 940 2764 ...\n"
     ]
    }
   ],
   "source": [
    "str(indata[c(50:132)])"
   ]
  },
  {
   "cell_type": "markdown",
   "metadata": {},
   "source": [
    "#### There are 132 features. Loss is the variable that is continuous. Its the one we need to predict. There are many categorical features and continuous features."
   ]
  },
  {
   "cell_type": "markdown",
   "metadata": {},
   "source": [
    "#### Some features like cat110 and cat116 have too many levels. 131 and 326. Others like cat112 and cat113 do have many levels. Need to see how we can handle them"
   ]
  },
  {
   "cell_type": "code",
   "execution_count": 38,
   "metadata": {
    "collapsed": false,
    "scrolled": true
   },
   "outputs": [
    {
     "data": {
      "text/html": [
       "<ol class=list-inline>\n",
       "\t<li>'cont1'</li>\n",
       "\t<li>'cont2'</li>\n",
       "\t<li>'cont3'</li>\n",
       "\t<li>'cont4'</li>\n",
       "\t<li>'cont5'</li>\n",
       "\t<li>'cont6'</li>\n",
       "\t<li>'cont7'</li>\n",
       "\t<li>'cont8'</li>\n",
       "\t<li>'cont9'</li>\n",
       "\t<li>'cont10'</li>\n",
       "\t<li>'cont11'</li>\n",
       "\t<li>'cont12'</li>\n",
       "\t<li>'cont13'</li>\n",
       "\t<li>'cont14'</li>\n",
       "</ol>\n"
      ],
      "text/latex": [
       "\\begin{enumerate*}\n",
       "\\item 'cont1'\n",
       "\\item 'cont2'\n",
       "\\item 'cont3'\n",
       "\\item 'cont4'\n",
       "\\item 'cont5'\n",
       "\\item 'cont6'\n",
       "\\item 'cont7'\n",
       "\\item 'cont8'\n",
       "\\item 'cont9'\n",
       "\\item 'cont10'\n",
       "\\item 'cont11'\n",
       "\\item 'cont12'\n",
       "\\item 'cont13'\n",
       "\\item 'cont14'\n",
       "\\end{enumerate*}\n"
      ],
      "text/markdown": [
       "1. 'cont1'\n",
       "2. 'cont2'\n",
       "3. 'cont3'\n",
       "4. 'cont4'\n",
       "5. 'cont5'\n",
       "6. 'cont6'\n",
       "7. 'cont7'\n",
       "8. 'cont8'\n",
       "9. 'cont9'\n",
       "10. 'cont10'\n",
       "11. 'cont11'\n",
       "12. 'cont12'\n",
       "13. 'cont13'\n",
       "14. 'cont14'\n",
       "\n",
       "\n"
      ],
      "text/plain": [
       " [1] \"cont1\"  \"cont2\"  \"cont3\"  \"cont4\"  \"cont5\"  \"cont6\"  \"cont7\"  \"cont8\" \n",
       " [9] \"cont9\"  \"cont10\" \"cont11\" \"cont12\" \"cont13\" \"cont14\""
      ]
     },
     "metadata": {},
     "output_type": "display_data"
    }
   ],
   "source": [
    "names(indata)[118:131]"
   ]
  },
  {
   "cell_type": "code",
   "execution_count": 49,
   "metadata": {
    "collapsed": false,
    "scrolled": true
   },
   "outputs": [
    {
     "name": "stderr",
     "output_type": "stream",
     "text": [
      "Installing package into 'C:/Users/venkata.rao/Documents/R/win-library/3.2'\n",
      "(as 'lib' is unspecified)\n"
     ]
    },
    {
     "name": "stdout",
     "output_type": "stream",
     "text": [
      "package 'gridExtra' successfully unpacked and MD5 sums checked\n",
      "\n",
      "The downloaded binary packages are in\n",
      "\tC:\\Users\\venkata.rao\\AppData\\Local\\Temp\\RtmpkhgBMV\\downloaded_packages\n"
     ]
    }
   ],
   "source": [
    "install.packages(\"gridExtra\",repos = \"http://cran.us.r-project.org\")"
   ]
  },
  {
   "cell_type": "code",
   "execution_count": 50,
   "metadata": {
    "collapsed": false,
    "scrolled": true
   },
   "outputs": [
    {
     "name": "stderr",
     "output_type": "stream",
     "text": [
      "Warning message:\n",
      "\"package 'gridExtra' was built under R version 3.2.5\""
     ]
    }
   ],
   "source": [
    "library(gridExtra)"
   ]
  },
  {
   "cell_type": "code",
   "execution_count": 86,
   "metadata": {
    "collapsed": false,
    "scrolled": true
   },
   "outputs": [],
   "source": []
  },
  {
   "cell_type": "code",
   "execution_count": 55,
   "metadata": {
    "collapsed": false,
    "scrolled": true
   },
   "outputs": [
    {
     "data": {
      "text/html": [
       "14"
      ],
      "text/latex": [
       "14"
      ],
      "text/markdown": [
       "14"
      ],
      "text/plain": [
       "[1] 14"
      ]
     },
     "metadata": {},
     "output_type": "display_data"
    }
   ],
   "source": [
    "length(plots)"
   ]
  },
  {
   "cell_type": "code",
   "execution_count": 58,
   "metadata": {
    "collapsed": false,
    "scrolled": true
   },
   "outputs": [],
   "source": [
    "library(ggplot2)"
   ]
  },
  {
   "cell_type": "code",
   "execution_count": 61,
   "metadata": {
    "collapsed": true,
    "scrolled": true
   },
   "outputs": [],
   "source": [
    "multiplot <- function(..., plotlist=NULL, file, cols=1, layout=NULL) {\n",
    "  library(grid)\n",
    "\n",
    "  # Make a list from the ... arguments and plotlist\n",
    "  plots <- c(list(...), plotlist)\n",
    "\n",
    "  numPlots = length(plots)\n",
    "\n",
    "  # If layout is NULL, then use 'cols' to determine layout\n",
    "  if (is.null(layout)) {\n",
    "    # Make the panel\n",
    "    # ncol: Number of columns of plots\n",
    "    # nrow: Number of rows needed, calculated from # of cols\n",
    "    layout <- matrix(seq(1, cols * ceiling(numPlots/cols)),\n",
    "                    ncol = cols, nrow = ceiling(numPlots/cols))\n",
    "  }\n",
    "\n",
    " if (numPlots==1) {\n",
    "    print(plots[[1]])\n",
    "\n",
    "  } else {\n",
    "    # Set up the page\n",
    "    grid.newpage()\n",
    "    pushViewport(viewport(layout = grid.layout(nrow(layout), ncol(layout))))\n",
    "\n",
    "    # Make each plot, in the correct location\n",
    "    for (i in 1:numPlots) {\n",
    "      # Get the i,j matrix positions of the regions that contain this subplot\n",
    "      matchidx <- as.data.frame(which(layout == i, arr.ind = TRUE))\n",
    "\n",
    "      print(plots[[i]], vp = viewport(layout.pos.row = matchidx$row,\n",
    "                                      layout.pos.col = matchidx$col))\n",
    "    }\n",
    "  }\n",
    "}"
   ]
  },
  {
   "cell_type": "code",
   "execution_count": 73,
   "metadata": {
    "collapsed": false,
    "scrolled": true
   },
   "outputs": [
    {
     "name": "stderr",
     "output_type": "stream",
     "text": [
      "Installing package into 'C:/Users/venkata.rao/Documents/R/win-library/3.2'\n",
      "(as 'lib' is unspecified)\n"
     ]
    },
    {
     "name": "stdout",
     "output_type": "stream",
     "text": [
      "package 'repr' successfully unpacked and MD5 sums checked\n",
      "\n",
      "The downloaded binary packages are in\n",
      "\tC:\\Users\\venkata.rao\\AppData\\Local\\Temp\\RtmpkhgBMV\\downloaded_packages\n"
     ]
    }
   ],
   "source": [
    "install.packages(\"repr\",repos = \"http://cran.us.r-project.org\")"
   ]
  },
  {
   "cell_type": "code",
   "execution_count": 75,
   "metadata": {
    "collapsed": false,
    "scrolled": true
   },
   "outputs": [
    {
     "name": "stderr",
     "output_type": "stream",
     "text": [
      "Warning message:\n",
      "\"package 'repr' was built under R version 3.2.5\""
     ]
    },
    {
     "ename": "ERROR",
     "evalue": "Error in library(repr): Package 'repr' version 0.10 cannot be unloaded\n",
     "output_type": "error",
     "traceback": [
      "Error in library(repr): Package 'repr' version 0.10 cannot be unloaded\nTraceback:\n",
      "1. library(repr)",
      "2. stop(gettextf(\"Package %s version %s cannot be unloaded\", sQuote(package), \n .     oldversion, domain = \"R-base\"))"
     ]
    }
   ],
   "source": [
    "library(repr)"
   ]
  },
  {
   "cell_type": "code",
   "execution_count": 104,
   "metadata": {
    "collapsed": true,
    "scrolled": true
   },
   "outputs": [],
   "source": [
    "options(repr.plot.width=15, repr.plot.height=50)"
   ]
  },
  {
   "cell_type": "code",
   "execution_count": 105,
   "metadata": {
    "collapsed": true,
    "scrolled": true
   },
   "outputs": [],
   "source": [
    "plots <- list()\n",
    "i <- 1\n",
    "for(col in 118:132) {\n",
    "    var = names(indata)[col]\n",
    "    #print(var)\n",
    "    p1 <- ggplot(indata,aes_string(x=var,y=var)) + geom_violin(fill=\"blue\")\n",
    "    plots[[i]] <- p1\n",
    "    i <- i + 1\n",
    "}"
   ]
  },
  {
   "cell_type": "code",
   "execution_count": 106,
   "metadata": {
    "collapsed": false,
    "scrolled": false
   },
   "outputs": [
    {
     "data": {
      "image/png": "[encoded data removed]",
      "text/plain": [
       "plot without title"
      ]
     },
     "metadata": {},
     "output_type": "display_data"
    }
   ],
   "source": [
    "multiplot(plotlist=plots,cols=2)"
   ]
  },
  {
   "cell_type": "code",
   "execution_count": 107,
   "metadata": {
    "collapsed": true,
    "scrolled": true
   },
   "outputs": [],
   "source": [
    "options(repr.plot.width=7, repr.plot.height=7)"
   ]
  },
  {
   "cell_type": "code",
   "execution_count": 109,
   "metadata": {
    "collapsed": false,
    "scrolled": true
   },
   "outputs": [
    {
     "data": {},
     "metadata": {},
     "output_type": "display_data"
    },
    {
     "data": {
      "image/png": "[encoded data removed]",
      "text/plain": [
       "plot without title"
      ]
     },
     "metadata": {},
     "output_type": "display_data"
    }
   ],
   "source": [
    "ggplot(indata,aes_string(x=\"loss\",y=\"loss\")) + geom_violin(fill=\"blue\")"
   ]
  },
  {
   "cell_type": "markdown",
   "metadata": {},
   "source": [
    "#### loss variable is highly skewed.Lets plot a log transformation"
   ]
  },
  {
   "cell_type": "code",
   "execution_count": 108,
   "metadata": {
    "collapsed": false,
    "scrolled": true
   },
   "outputs": [
    {
     "data": {},
     "metadata": {},
     "output_type": "display_data"
    },
    {
     "data": {
      "image/png": "[encoded data removed]",
      "text/plain": [
       "plot without title"
      ]
     },
     "metadata": {},
     "output_type": "display_data"
    }
   ],
   "source": [
    "ggplot(indata,aes_string(x=\"loss\",y=\"loss\")) + geom_violin(fill=\"blue\") + scale_y_log10()"
   ]
  },
  {
   "cell_type": "code",
   "execution_count": 111,
   "metadata": {
    "collapsed": false,
    "scrolled": true
   },
   "outputs": [],
   "source": [
    "corr_mat <- cor(indata[118:131])"
   ]
  },
  {
   "cell_type": "code",
   "execution_count": 116,
   "metadata": {
    "collapsed": false,
    "scrolled": true
   },
   "outputs": [
    {
     "name": "stderr",
     "output_type": "stream",
     "text": [
      "Installing package into 'C:/Users/venkata.rao/Documents/R/win-library/3.2'\n",
      "(as 'lib' is unspecified)\n",
      "Warning message:\n",
      "\"package 'corrplot' is in use and will not be installed\""
     ]
    }
   ],
   "source": [
    "install.packages(\"corrplot\",repos = \"http://cran.us.r-project.org\")\n",
    "library(corrplot)\n"
   ]
  },
  {
   "cell_type": "code",
   "execution_count": 117,
   "metadata": {
    "collapsed": false,
    "scrolled": true
   },
   "outputs": [
    {
     "data": {
      "image/png": "[encoded data removed]",
      "text/plain": [
       "Plot with title \"\""
      ]
     },
     "metadata": {},
     "output_type": "display_data"
    }
   ],
   "source": [
    "corrplot(corr_mat,method = \"number\" )"
   ]
  },
  {
   "cell_type": "markdown",
   "metadata": {},
   "source": [
    "**There appears to be some highly correlated variables<br>\n",
    "cont1 and cont9,cont10 are highly correlated.  \n",
    "Similarly cont11 and cont12 are correlated**"
   ]
  },
  {
   "cell_type": "markdown",
   "metadata": {},
   "source": [
    "## Build a linear Regression"
   ]
  },
  {
   "cell_type": "code",
   "execution_count": 124,
   "metadata": {
    "collapsed": false,
    "scrolled": true
   },
   "outputs": [
    {
     "name": "stderr",
     "output_type": "stream",
     "text": [
      "Warning message:\n",
      "\"package 'caret' was built under R version 3.2.5\"Loading required package: lattice\n"
     ]
    }
   ],
   "source": [
    "library(caret)"
   ]
  },
  {
   "cell_type": "code",
   "execution_count": 126,
   "metadata": {
    "collapsed": true,
    "scrolled": true
   },
   "outputs": [],
   "source": [
    "inTrain <- createDataPartition(y=indata$loss, p=0.75, list=FALSE)"
   ]
  },
  {
   "cell_type": "code",
   "execution_count": 131,
   "metadata": {
    "collapsed": false,
    "scrolled": true
   },
   "outputs": [],
   "source": [
    "train <- indata[inTrain,]\n",
    "test <- indata[-inTrain,]"
   ]
  },
  {
   "cell_type": "code",
   "execution_count": 132,
   "metadata": {
    "collapsed": false,
    "scrolled": true
   },
   "outputs": [
    {
     "data": {
      "text/html": [
       "<ol class=list-inline>\n",
       "\t<li>141240</li>\n",
       "\t<li>132</li>\n",
       "</ol>\n"
      ],
      "text/latex": [
       "\\begin{enumerate*}\n",
       "\\item 141240\n",
       "\\item 132\n",
       "\\end{enumerate*}\n"
      ],
      "text/markdown": [
       "1. 141240\n",
       "2. 132\n",
       "\n",
       "\n"
      ],
      "text/plain": [
       "[1] 141240    132"
      ]
     },
     "metadata": {},
     "output_type": "display_data"
    },
    {
     "data": {
      "text/html": [
       "<ol class=list-inline>\n",
       "\t<li>188318</li>\n",
       "\t<li>132</li>\n",
       "</ol>\n"
      ],
      "text/latex": [
       "\\begin{enumerate*}\n",
       "\\item 188318\n",
       "\\item 132\n",
       "\\end{enumerate*}\n"
      ],
      "text/markdown": [
       "1. 188318\n",
       "2. 132\n",
       "\n",
       "\n"
      ],
      "text/plain": [
       "[1] 188318    132"
      ]
     },
     "metadata": {},
     "output_type": "display_data"
    },
    {
     "data": {
      "text/html": [
       "<ol class=list-inline>\n",
       "\t<li>47078</li>\n",
       "\t<li>132</li>\n",
       "</ol>\n"
      ],
      "text/latex": [
       "\\begin{enumerate*}\n",
       "\\item 47078\n",
       "\\item 132\n",
       "\\end{enumerate*}\n"
      ],
      "text/markdown": [
       "1. 47078\n",
       "2. 132\n",
       "\n",
       "\n"
      ],
      "text/plain": [
       "[1] 47078   132"
      ]
     },
     "metadata": {},
     "output_type": "display_data"
    }
   ],
   "source": [
    "dim(train)\n",
    "dim(indata)\n",
    "dim(test)"
   ]
  },
  {
   "cell_type": "code",
   "execution_count": null,
   "metadata": {
    "collapsed": false,
    "scrolled": true
   },
   "outputs": [],
   "source": [
    "lineamrmodel <- lm(loss ~ ., data = train[-c(1)])"
   ]
  },
  {
   "cell_type": "code",
   "execution_count": null,
   "metadata": {
    "collapsed": false,
    "scrolled": true
   },
   "outputs": [],
   "source": [
    "ls()"
   ]
  },
  {
   "cell_type": "code",
   "execution_count": null,
   "metadata": {
    "collapsed": true,
    "scrolled": true
   },
   "outputs": [],
   "source": [
    "ls()"
   ]
  },
  {
   "cell_type": "code",
   "execution_count": null,
   "metadata": {
    "collapsed": true,
    "scrolled": true
   },
   "outputs": [],
   "source": []
  },
  {
   "cell_type": "code",
   "execution_count": 142,
   "metadata": {
    "collapsed": false,
    "scrolled": true
   },
   "outputs": [
    {
     "data": {
      "text/html": [
       "<ol class=list-inline>\n",
       "\t<li>'col'</li>\n",
       "\t<li>'corr_mat'</li>\n",
       "\t<li>'i'</li>\n",
       "\t<li>'indata'</li>\n",
       "\t<li>'inTrain'</li>\n",
       "\t<li>'lineamrmodel'</li>\n",
       "\t<li>'multiplot'</li>\n",
       "\t<li>'p1'</li>\n",
       "\t<li>'plots'</li>\n",
       "\t<li>'test'</li>\n",
       "\t<li>'train'</li>\n",
       "\t<li>'var'</li>\n",
       "</ol>\n"
      ],
      "text/latex": [
       "\\begin{enumerate*}\n",
       "\\item 'col'\n",
       "\\item 'corr\\_mat'\n",
       "\\item 'i'\n",
       "\\item 'indata'\n",
       "\\item 'inTrain'\n",
       "\\item 'lineamrmodel'\n",
       "\\item 'multiplot'\n",
       "\\item 'p1'\n",
       "\\item 'plots'\n",
       "\\item 'test'\n",
       "\\item 'train'\n",
       "\\item 'var'\n",
       "\\end{enumerate*}\n"
      ],
      "text/markdown": [
       "1. 'col'\n",
       "2. 'corr_mat'\n",
       "3. 'i'\n",
       "4. 'indata'\n",
       "5. 'inTrain'\n",
       "6. 'lineamrmodel'\n",
       "7. 'multiplot'\n",
       "8. 'p1'\n",
       "9. 'plots'\n",
       "10. 'test'\n",
       "11. 'train'\n",
       "12. 'var'\n",
       "\n",
       "\n"
      ],
      "text/plain": [
       " [1] \"col\"          \"corr_mat\"     \"i\"            \"indata\"       \"inTrain\"     \n",
       " [6] \"lineamrmodel\" \"multiplot\"    \"p1\"           \"plots\"        \"test\"        \n",
       "[11] \"train\"        \"var\"         "
      ]
     },
     "metadata": {},
     "output_type": "display_data"
    }
   ],
   "source": [
    "ls()"
   ]
  },
  {
   "cell_type": "code",
   "execution_count": 147,
   "metadata": {
    "collapsed": false,
    "scrolled": true
   },
   "outputs": [
    {
     "data": {
      "text/html": [
       "<table>\n",
       "<thead><tr><th scope=col>cat1</th><th scope=col>cat2</th><th scope=col>cat3</th><th scope=col>cat4</th><th scope=col>cat5</th><th scope=col>cat6</th><th scope=col>cat7</th><th scope=col>cat8</th><th scope=col>cat9</th><th scope=col>cat10</th><th scope=col>...</th><th scope=col>cont6</th><th scope=col>cont7</th><th scope=col>cont8</th><th scope=col>cont9</th><th scope=col>cont10</th><th scope=col>cont11</th><th scope=col>cont12</th><th scope=col>cont13</th><th scope=col>cont14</th><th scope=col>loss</th></tr></thead>\n",
       "<tbody>\n",
       "\t<tr><td>A       </td><td>B       </td><td>A       </td><td>B       </td><td>A       </td><td>A       </td><td>A       </td><td>A       </td><td>B       </td><td>A       </td><td>...     </td><td>0.718367</td><td>0.335060</td><td>0.30260 </td><td>0.67135 </td><td>0.83510 </td><td>0.569745</td><td>0.594646</td><td>0.822493</td><td>0.714843</td><td>2213.18 </td></tr>\n",
       "\t<tr><td>A       </td><td>B       </td><td>A       </td><td>A       </td><td>A       </td><td>A       </td><td>A       </td><td>A       </td><td>B       </td><td>B       </td><td>...     </td><td>0.438917</td><td>0.436585</td><td>0.60087 </td><td>0.35127 </td><td>0.43919 </td><td>0.338312</td><td>0.366307</td><td>0.611431</td><td>0.304496</td><td>1283.60 </td></tr>\n",
       "\t<tr><td>A       </td><td>B       </td><td>A       </td><td>A       </td><td>B       </td><td>A       </td><td>A       </td><td>A       </td><td>B       </td><td>B       </td><td>...     </td><td>0.289648</td><td>0.315545</td><td>0.27320 </td><td>0.26076 </td><td>0.32446 </td><td>0.381398</td><td>0.373424</td><td>0.195709</td><td>0.774425</td><td>3005.09 </td></tr>\n",
       "\t<tr><td>B       </td><td>B       </td><td>A       </td><td>B       </td><td>A       </td><td>A       </td><td>A       </td><td>A       </td><td>B       </td><td>A       </td><td>...     </td><td>0.440945</td><td>0.391128</td><td>0.31796 </td><td>0.32128 </td><td>0.44467 </td><td>0.327915</td><td>0.321570</td><td>0.605077</td><td>0.602642</td><td> 939.85 </td></tr>\n",
       "\t<tr><td>A       </td><td>B       </td><td>A       </td><td>B       </td><td>A       </td><td>A       </td><td>A       </td><td>A       </td><td>B       </td><td>B       </td><td>...     </td><td>0.178193</td><td>0.247408</td><td>0.24564 </td><td>0.22089 </td><td>0.21230 </td><td>0.204687</td><td>0.202213</td><td>0.246011</td><td>0.432606</td><td>2763.85 </td></tr>\n",
       "\t<tr><td>A       </td><td>B       </td><td>A       </td><td>A       </td><td>A       </td><td>A       </td><td>A       </td><td>A       </td><td>B       </td><td>A       </td><td>...     </td><td>0.364464</td><td>0.401162</td><td>0.26847 </td><td>0.46226 </td><td>0.50556 </td><td>0.366788</td><td>0.359249</td><td>0.345247</td><td>0.726792</td><td>5142.87 </td></tr>\n",
       "</tbody>\n",
       "</table>\n"
      ],
      "text/latex": [
       "\\begin{tabular}{r|lllllllllllllllllllllllllllllllllllllllllllllllllllllllllllllllllllllllllllllllllllllllllllllllllllllllllllllllllllllllllllllllllll}\n",
       " cat1 & cat2 & cat3 & cat4 & cat5 & cat6 & cat7 & cat8 & cat9 & cat10 & ... & cont6 & cont7 & cont8 & cont9 & cont10 & cont11 & cont12 & cont13 & cont14 & loss\\\\\n",
       "\\hline\n",
       "\t A        & B        & A        & B        & A        & A        & A        & A        & B        & A        & ...      & 0.718367 & 0.335060 & 0.30260  & 0.67135  & 0.83510  & 0.569745 & 0.594646 & 0.822493 & 0.714843 & 2213.18 \\\\\n",
       "\t A        & B        & A        & A        & A        & A        & A        & A        & B        & B        & ...      & 0.438917 & 0.436585 & 0.60087  & 0.35127  & 0.43919  & 0.338312 & 0.366307 & 0.611431 & 0.304496 & 1283.60 \\\\\n",
       "\t A        & B        & A        & A        & B        & A        & A        & A        & B        & B        & ...      & 0.289648 & 0.315545 & 0.27320  & 0.26076  & 0.32446  & 0.381398 & 0.373424 & 0.195709 & 0.774425 & 3005.09 \\\\\n",
       "\t B        & B        & A        & B        & A        & A        & A        & A        & B        & A        & ...      & 0.440945 & 0.391128 & 0.31796  & 0.32128  & 0.44467  & 0.327915 & 0.321570 & 0.605077 & 0.602642 &  939.85 \\\\\n",
       "\t A        & B        & A        & B        & A        & A        & A        & A        & B        & B        & ...      & 0.178193 & 0.247408 & 0.24564  & 0.22089  & 0.21230  & 0.204687 & 0.202213 & 0.246011 & 0.432606 & 2763.85 \\\\\n",
       "\t A        & B        & A        & A        & A        & A        & A        & A        & B        & A        & ...      & 0.364464 & 0.401162 & 0.26847  & 0.46226  & 0.50556  & 0.366788 & 0.359249 & 0.345247 & 0.726792 & 5142.87 \\\\\n",
       "\\end{tabular}\n"
      ],
      "text/markdown": [
       "\n",
       "cat1 | cat2 | cat3 | cat4 | cat5 | cat6 | cat7 | cat8 | cat9 | cat10 | ... | cont6 | cont7 | cont8 | cont9 | cont10 | cont11 | cont12 | cont13 | cont14 | loss | \n",
       "|---|---|---|---|---|---|\n",
       "| A        | B        | A        | B        | A        | A        | A        | A        | B        | A        | ...      | 0.718367 | 0.335060 | 0.30260  | 0.67135  | 0.83510  | 0.569745 | 0.594646 | 0.822493 | 0.714843 | 2213.18  | \n",
       "| A        | B        | A        | A        | A        | A        | A        | A        | B        | B        | ...      | 0.438917 | 0.436585 | 0.60087  | 0.35127  | 0.43919  | 0.338312 | 0.366307 | 0.611431 | 0.304496 | 1283.60  | \n",
       "| A        | B        | A        | A        | B        | A        | A        | A        | B        | B        | ...      | 0.289648 | 0.315545 | 0.27320  | 0.26076  | 0.32446  | 0.381398 | 0.373424 | 0.195709 | 0.774425 | 3005.09  | \n",
       "| B        | B        | A        | B        | A        | A        | A        | A        | B        | A        | ...      | 0.440945 | 0.391128 | 0.31796  | 0.32128  | 0.44467  | 0.327915 | 0.321570 | 0.605077 | 0.602642 |  939.85  | \n",
       "| A        | B        | A        | B        | A        | A        | A        | A        | B        | B        | ...      | 0.178193 | 0.247408 | 0.24564  | 0.22089  | 0.21230  | 0.204687 | 0.202213 | 0.246011 | 0.432606 | 2763.85  | \n",
       "| A        | B        | A        | A        | A        | A        | A        | A        | B        | A        | ...      | 0.364464 | 0.401162 | 0.26847  | 0.46226  | 0.50556  | 0.366788 | 0.359249 | 0.345247 | 0.726792 | 5142.87  | \n",
       "\n",
       "\n"
      ],
      "text/plain": [
       "  cat1 cat2 cat3 cat4 cat5 cat6 cat7 cat8 cat9 cat10 ... cont6    cont7   \n",
       "1 A    B    A    B    A    A    A    A    B    A     ... 0.718367 0.335060\n",
       "2 A    B    A    A    A    A    A    A    B    B     ... 0.438917 0.436585\n",
       "3 A    B    A    A    B    A    A    A    B    B     ... 0.289648 0.315545\n",
       "4 B    B    A    B    A    A    A    A    B    A     ... 0.440945 0.391128\n",
       "5 A    B    A    B    A    A    A    A    B    B     ... 0.178193 0.247408\n",
       "6 A    B    A    A    A    A    A    A    B    A     ... 0.364464 0.401162\n",
       "  cont8   cont9   cont10  cont11   cont12   cont13   cont14   loss   \n",
       "1 0.30260 0.67135 0.83510 0.569745 0.594646 0.822493 0.714843 2213.18\n",
       "2 0.60087 0.35127 0.43919 0.338312 0.366307 0.611431 0.304496 1283.60\n",
       "3 0.27320 0.26076 0.32446 0.381398 0.373424 0.195709 0.774425 3005.09\n",
       "4 0.31796 0.32128 0.44467 0.327915 0.321570 0.605077 0.602642  939.85\n",
       "5 0.24564 0.22089 0.21230 0.204687 0.202213 0.246011 0.432606 2763.85\n",
       "6 0.26847 0.46226 0.50556 0.366788 0.359249 0.345247 0.726792 5142.87"
      ]
     },
     "metadata": {},
     "output_type": "display_data"
    }
   ],
   "source": [
    "head(train[-c(1)])"
   ]
  },
  {
   "cell_type": "code",
   "execution_count": 148,
   "metadata": {
    "collapsed": true,
    "scrolled": true
   },
   "outputs": [],
   "source": [
    "lineamrmodel <- lm(loss ~ ., data = train[-c(1)])"
   ]
  },
  {
   "cell_type": "code",
   "execution_count": 149,
   "metadata": {
    "collapsed": true,
    "scrolled": true
   },
   "outputs": [],
   "source": [
    "save.image(\"Allstate.RData\")"
   ]
  },
  {
   "cell_type": "code",
   "execution_count": 150,
   "metadata": {
    "collapsed": false,
    "scrolled": true
   },
   "outputs": [
    {
     "data": {
      "text/html": [
       "<ol class=list-inline>\n",
       "\t<li>'col'</li>\n",
       "\t<li>'corr_mat'</li>\n",
       "\t<li>'i'</li>\n",
       "\t<li>'indata'</li>\n",
       "\t<li>'inTrain'</li>\n",
       "\t<li>'lineamrmodel'</li>\n",
       "\t<li>'multiplot'</li>\n",
       "\t<li>'p1'</li>\n",
       "\t<li>'plots'</li>\n",
       "\t<li>'test'</li>\n",
       "\t<li>'train'</li>\n",
       "\t<li>'var'</li>\n",
       "</ol>\n"
      ],
      "text/latex": [
       "\\begin{enumerate*}\n",
       "\\item 'col'\n",
       "\\item 'corr\\_mat'\n",
       "\\item 'i'\n",
       "\\item 'indata'\n",
       "\\item 'inTrain'\n",
       "\\item 'lineamrmodel'\n",
       "\\item 'multiplot'\n",
       "\\item 'p1'\n",
       "\\item 'plots'\n",
       "\\item 'test'\n",
       "\\item 'train'\n",
       "\\item 'var'\n",
       "\\end{enumerate*}\n"
      ],
      "text/markdown": [
       "1. 'col'\n",
       "2. 'corr_mat'\n",
       "3. 'i'\n",
       "4. 'indata'\n",
       "5. 'inTrain'\n",
       "6. 'lineamrmodel'\n",
       "7. 'multiplot'\n",
       "8. 'p1'\n",
       "9. 'plots'\n",
       "10. 'test'\n",
       "11. 'train'\n",
       "12. 'var'\n",
       "\n",
       "\n"
      ],
      "text/plain": [
       " [1] \"col\"          \"corr_mat\"     \"i\"            \"indata\"       \"inTrain\"     \n",
       " [6] \"lineamrmodel\" \"multiplot\"    \"p1\"           \"plots\"        \"test\"        \n",
       "[11] \"train\"        \"var\"         "
      ]
     },
     "metadata": {},
     "output_type": "display_data"
    }
   ],
   "source": [
    "ls()"
   ]
  },
  {
   "cell_type": "code",
   "execution_count": 151,
   "metadata": {
    "collapsed": false,
    "scrolled": true
   },
   "outputs": [
    {
     "data": {
      "text/html": [
       "<ol class=list-inline>\n",
       "\t<li>'col'</li>\n",
       "\t<li>'corr_mat'</li>\n",
       "\t<li>'i'</li>\n",
       "\t<li>'indata'</li>\n",
       "\t<li>'inTrain'</li>\n",
       "\t<li>'lineamrmodel'</li>\n",
       "\t<li>'multiplot'</li>\n",
       "\t<li>'p1'</li>\n",
       "\t<li>'plots'</li>\n",
       "\t<li>'test'</li>\n",
       "\t<li>'train'</li>\n",
       "\t<li>'var'</li>\n",
       "</ol>\n"
      ],
      "text/latex": [
       "\\begin{enumerate*}\n",
       "\\item 'col'\n",
       "\\item 'corr\\_mat'\n",
       "\\item 'i'\n",
       "\\item 'indata'\n",
       "\\item 'inTrain'\n",
       "\\item 'lineamrmodel'\n",
       "\\item 'multiplot'\n",
       "\\item 'p1'\n",
       "\\item 'plots'\n",
       "\\item 'test'\n",
       "\\item 'train'\n",
       "\\item 'var'\n",
       "\\end{enumerate*}\n"
      ],
      "text/markdown": [
       "1. 'col'\n",
       "2. 'corr_mat'\n",
       "3. 'i'\n",
       "4. 'indata'\n",
       "5. 'inTrain'\n",
       "6. 'lineamrmodel'\n",
       "7. 'multiplot'\n",
       "8. 'p1'\n",
       "9. 'plots'\n",
       "10. 'test'\n",
       "11. 'train'\n",
       "12. 'var'\n",
       "\n",
       "\n"
      ],
      "text/plain": [
       " [1] \"col\"          \"corr_mat\"     \"i\"            \"indata\"       \"inTrain\"     \n",
       " [6] \"lineamrmodel\" \"multiplot\"    \"p1\"           \"plots\"        \"test\"        \n",
       "[11] \"train\"        \"var\"         "
      ]
     },
     "metadata": {},
     "output_type": "display_data"
    }
   ],
   "source": [
    "ls()"
   ]
  },
  {
   "cell_type": "code",
   "execution_count": 154,
   "metadata": {
    "collapsed": false,
    "scrolled": false
   },
   "outputs": [
    {
     "data": {
      "text/plain": [
       "\n",
       "Call:\n",
       "lm(formula = loss ~ ., data = train[-c(1)])\n",
       "\n",
       "Residuals:\n",
       "   Min     1Q Median     3Q    Max \n",
       "-42802  -1025   -209    702  59400 \n",
       "\n",
       "Coefficients: (71 not defined because of singularities)\n",
       "              Estimate Std. Error t value Pr(>|t|)    \n",
       "(Intercept)  -3926.677   3348.390  -1.173 0.240916    \n",
       "cat1B         -236.975     14.819 -15.991  < 2e-16 ***\n",
       "cat2B       -56476.989  12830.791  -4.402 1.07e-05 ***\n",
       "cat3B         1811.418   1984.820   0.913 0.361436    \n",
       "cat4B        32287.285  16951.514   1.905 0.056823 .  \n",
       "cat5B        23740.947  11587.778   2.049 0.040484 *  \n",
       "cat6B         -122.613   3567.588  -0.034 0.972583    \n",
       "cat7B          787.580  12884.201   0.061 0.951258    \n",
       "cat8B         3193.504    666.780   4.789 1.67e-06 ***\n",
       "cat9B         9638.487   2136.360   4.512 6.44e-06 ***\n",
       "cat10B        9849.847   2136.313   4.611 4.02e-06 ***\n",
       "cat11B        9788.324   2136.295   4.582 4.61e-06 ***\n",
       "cat12B       10383.892   2136.227   4.861 1.17e-06 ***\n",
       "cat13B        9762.246   2136.279   4.570 4.89e-06 ***\n",
       "cat14B        9902.224   2139.833   4.628 3.70e-06 ***\n",
       "cat15B        8879.372   2095.892   4.237 2.27e-05 ***\n",
       "cat16B        -999.741    638.471  -1.566 0.117389    \n",
       "cat17B        -761.352    640.488  -1.189 0.234557    \n",
       "cat18B       -1035.575    640.355  -1.617 0.105840    \n",
       "cat19B        -538.318    639.700  -0.842 0.400060    \n",
       "cat20B        -594.936    643.205  -0.925 0.354990    \n",
       "cat21B       -1273.815    647.886  -1.966 0.049288 *  \n",
       "cat22B       -1219.366    676.792  -1.802 0.071597 .  \n",
       "cat23B       -2561.334   1523.411  -1.681 0.092704 .  \n",
       "cat24B       -2752.590   1523.673  -1.807 0.070835 .  \n",
       "cat25B       -2363.059   1523.488  -1.551 0.120883    \n",
       "cat26B       -2177.179   1523.571  -1.429 0.153007    \n",
       "cat27B       -2355.290   1523.503  -1.546 0.122114    \n",
       "cat28B       -2751.177   1523.653  -1.806 0.070976 .  \n",
       "cat29B       -2397.277   1523.951  -1.573 0.115705    \n",
       "cat30B       -2766.470   1523.967  -1.815 0.069479 .  \n",
       "cat31B       -2752.726   1523.817  -1.806 0.070847 .  \n",
       "cat32B       -2168.302   1523.914  -1.423 0.154781    \n",
       "cat33B       -2583.695   1528.149  -1.691 0.090890 .  \n",
       "cat34B       -2265.753   1528.664  -1.482 0.138295    \n",
       "cat35B       -2330.825   1525.000  -1.528 0.126413    \n",
       "cat36B       -2071.376   1039.961  -1.992 0.046397 *  \n",
       "cat37B       -1940.101   1040.000  -1.865 0.062116 .  \n",
       "cat38B       -1804.969   1040.128  -1.735 0.082684 .  \n",
       "cat39B       -2310.817   1040.394  -2.221 0.026346 *  \n",
       "cat40B       -2304.587   1040.294  -2.215 0.026739 *  \n",
       "cat41B       -2454.297   1040.378  -2.359 0.018324 *  \n",
       "cat42B       -1788.619   1040.446  -1.719 0.085601 .  \n",
       "cat43B       -2272.006   1040.678  -2.183 0.029023 *  \n",
       "cat44B       -1716.185   1040.118  -1.650 0.098947 .  \n",
       "cat45B       -2216.501   1040.666  -2.130 0.033183 *  \n",
       "cat46B       -1903.191   1047.569  -1.817 0.069255 .  \n",
       "cat47B       -1738.194   1047.852  -1.659 0.097155 .  \n",
       "cat48B       -1975.684   1040.816  -1.898 0.057671 .  \n",
       "cat49B         567.451    369.165   1.537 0.124266    \n",
       "cat50B         407.424    368.722   1.105 0.269179    \n",
       "cat51B         810.363    390.004   2.078 0.037727 *  \n",
       "cat52B         542.880    369.105   1.471 0.141348    \n",
       "cat53B         932.844    368.927   2.529 0.011455 *  \n",
       "cat54B         177.479    370.094   0.480 0.631548    \n",
       "cat55B         283.811    425.898   0.666 0.505167    \n",
       "cat56B         638.976    412.698   1.548 0.121555    \n",
       "cat57B        2953.149   1955.456   1.510 0.130992    \n",
       "cat58B        -844.771   1955.752  -0.432 0.665784    \n",
       "cat59B        -198.328   1961.534  -0.101 0.919464    \n",
       "cat60B       -1064.861   1960.203  -0.543 0.586965    \n",
       "cat61B       -1235.547   1957.034  -0.631 0.527822    \n",
       "cat62B        -278.506   1947.488  -0.143 0.886284    \n",
       "cat63B       -1257.681   1972.402  -0.638 0.523709    \n",
       "cat64B        -315.118   2000.025  -0.158 0.874806    \n",
       "cat65B         147.725    154.656   0.955 0.339485    \n",
       "cat66B        -322.911    152.232  -2.121 0.033909 *  \n",
       "cat67B         461.856    171.910   2.687 0.007219 ** \n",
       "cat68B          14.097    243.205   0.058 0.953778    \n",
       "cat69B        -309.576    200.129  -1.547 0.121894    \n",
       "cat70B         145.302    555.598   0.262 0.793689    \n",
       "cat71B        3836.250   2055.563   1.866 0.062005 .  \n",
       "cat72B         309.650     13.362  23.174  < 2e-16 ***\n",
       "cat73B         -98.033     19.511  -5.024 5.06e-07 ***\n",
       "cat73C        1047.636    475.161   2.205 0.027470 *  \n",
       "cat74B          95.899     39.705   2.415 0.015725 *  \n",
       "cat74C              NA         NA      NA       NA    \n",
       "cat75B         -99.272     16.001  -6.204 5.51e-10 ***\n",
       "cat75C        2214.149   2947.596   0.751 0.452551    \n",
       "cat76B          69.939    120.362   0.581 0.561194    \n",
       "cat76C        2110.081   1220.291   1.729 0.083782 .  \n",
       "cat77B        -824.765    419.535  -1.966 0.049312 *  \n",
       "cat77C         225.731    419.798   0.538 0.590777    \n",
       "cat77D        -164.617    360.193  -0.457 0.647654    \n",
       "cat78B         835.972   1161.184   0.720 0.471569    \n",
       "cat78C         665.869   1166.660   0.571 0.568171    \n",
       "cat78D        1603.040   1167.423   1.373 0.169710    \n",
       "cat79B         -98.863     29.954  -3.301 0.000965 ***\n",
       "cat79C         102.399     67.370   1.520 0.128527    \n",
       "cat79D        1316.224     34.917  37.696  < 2e-16 ***\n",
       "cat80B        1760.446   1638.313   1.075 0.282579    \n",
       "cat80C        1258.004   1638.549   0.768 0.442634    \n",
       "cat80D         744.925   1638.248   0.455 0.649320    \n",
       "cat81B         658.528     18.317  35.951  < 2e-16 ***\n",
       "cat81C         573.846     27.939  20.539  < 2e-16 ***\n",
       "cat81D              NA         NA      NA       NA    \n",
       "cat82B          -3.876     25.463  -0.152 0.879008    \n",
       "cat82C        -149.883     56.676  -2.645 0.008181 ** \n",
       "cat82D        -345.747     30.554 -11.316  < 2e-16 ***\n",
       "cat83B          24.418     17.023   1.434 0.151451    \n",
       "cat83C         103.017     39.116   2.634 0.008449 ** \n",
       "cat83D        -119.499     24.489  -4.880 1.06e-06 ***\n",
       "cat84B         140.425    115.950   1.211 0.225866    \n",
       "cat84C        -192.126     26.637  -7.213 5.51e-13 ***\n",
       "cat84D        -124.945     47.289  -2.642 0.008239 ** \n",
       "cat85B         -59.448    104.258  -0.570 0.568545    \n",
       "cat85C         456.304    138.282   3.300 0.000968 ***\n",
       "cat85D              NA         NA      NA       NA    \n",
       "cat86B        1542.414    907.717   1.699 0.089279 .  \n",
       "cat86C        -979.513    459.633  -2.131 0.033085 *  \n",
       "cat86D         488.641   1561.631   0.313 0.754354    \n",
       "cat87B        -644.883     29.410 -21.927  < 2e-16 ***\n",
       "cat87C         -29.785     37.172  -0.801 0.422969    \n",
       "cat87D              NA         NA      NA       NA    \n",
       "cat88B       -1599.377    896.135  -1.785 0.074304 .  \n",
       "cat88D         -81.307     49.994  -1.626 0.103882    \n",
       "cat88E          65.290    277.863   0.235 0.814231    \n",
       "cat89B         284.544  10951.742   0.026 0.979272    \n",
       "cat89C         941.207   9030.713   0.104 0.916993    \n",
       "cat89D        1437.567   7181.709   0.200 0.841347    \n",
       "cat89E        1620.158   5377.604   0.301 0.763202    \n",
       "cat89G              NA         NA      NA       NA    \n",
       "cat89I              NA         NA      NA       NA    \n",
       "cat90B        -831.872   1357.592  -0.613 0.540039    \n",
       "cat90C         212.545    750.473   0.283 0.777013    \n",
       "cat90D              NA         NA      NA       NA    \n",
       "cat90F              NA         NA      NA       NA    \n",
       "cat90G              NA         NA      NA       NA    \n",
       "cat91B         -37.392     30.324  -1.233 0.217544    \n",
       "cat91C         562.496     41.911  13.421  < 2e-16 ***\n",
       "cat91D         574.321     76.790   7.479 7.53e-14 ***\n",
       "cat91E         860.902    146.731   5.867 4.44e-09 ***\n",
       "cat91F         769.303    233.822   3.290 0.001002 ** \n",
       "cat91G        -176.211     49.072  -3.591 0.000330 ***\n",
       "cat91H              NA         NA      NA       NA    \n",
       "cat92B         274.741     93.929   2.925 0.003445 ** \n",
       "cat92C         847.031    325.201   2.605 0.009198 ** \n",
       "cat92D         946.346    710.481   1.332 0.182869    \n",
       "cat92H         108.383     45.506   2.382 0.017232 *  \n",
       "cat92I              NA         NA      NA       NA    \n",
       "cat93B         290.199    132.009   2.198 0.027928 *  \n",
       "cat93C         498.243    114.895   4.336 1.45e-05 ***\n",
       "cat93D         479.655    113.683   4.219 2.45e-05 ***\n",
       "cat93E         689.107    148.463   4.642 3.46e-06 ***\n",
       "cat94B         -20.317     99.210  -0.205 0.837743    \n",
       "cat94C          35.544    104.359   0.341 0.733410    \n",
       "cat94D          43.588    101.694   0.429 0.668205    \n",
       "cat94E        -192.662    271.750  -0.709 0.478345    \n",
       "cat94F         -24.723    172.639  -0.143 0.886128    \n",
       "cat94G        -117.423    511.657  -0.229 0.818484    \n",
       "cat95B         219.215    338.958   0.647 0.517807    \n",
       "cat95C        2371.378    892.121   2.658 0.007858 ** \n",
       "cat95D         159.592   1011.112   0.158 0.874585    \n",
       "cat95E        2172.244    837.072   2.595 0.009459 ** \n",
       "cat96B       -4217.089   2951.718  -1.429 0.153096    \n",
       "cat96C        -205.431   2945.246  -0.070 0.944393    \n",
       "cat96D        4106.334   3034.913   1.353 0.176048    \n",
       "cat96E        -690.181   2075.431  -0.333 0.739476    \n",
       "cat96F        4481.041   3027.923   1.480 0.138901    \n",
       "cat96G         161.460   2561.549   0.063 0.949741    \n",
       "cat96I        -753.069   3232.930  -0.233 0.815811    \n",
       "cat97B         710.694   3231.699   0.220 0.825939    \n",
       "cat97C          72.719     30.600   2.376 0.017482 *  \n",
       "cat97D         -11.422    112.447  -0.102 0.919091    \n",
       "cat97E          70.261     48.793   1.440 0.149879    \n",
       "cat97F        2384.408    418.500   5.698 1.22e-08 ***\n",
       "cat97G         -31.135     44.083  -0.706 0.480012    \n",
       "cat98B       -1169.431   1668.024  -0.701 0.483250    \n",
       "cat98C       -1672.745   1665.922  -1.004 0.315334    \n",
       "cat98D       -1693.927   1574.093  -1.076 0.281871    \n",
       "cat98E         456.180    302.223   1.509 0.131195    \n",
       "cat99D       -2204.550    891.268  -2.473 0.013381 *  \n",
       "cat99E        1918.526    908.019   2.113 0.034614 *  \n",
       "cat99F              NA         NA      NA       NA    \n",
       "cat99G         160.795    635.179   0.253 0.800154    \n",
       "cat99H        -115.851   1040.060  -0.111 0.911308    \n",
       "cat99I        -468.179    547.482  -0.855 0.392470    \n",
       "cat99J        -750.449    276.416  -2.715 0.006630 ** \n",
       "cat99K       -2232.289    892.376  -2.502 0.012368 *  \n",
       "cat99M              NA         NA      NA       NA    \n",
       "cat99N       -2782.502    891.659  -3.121 0.001805 ** \n",
       "cat99O              NA         NA      NA       NA    \n",
       "cat99P        -321.093   1005.382  -0.319 0.749443    \n",
       "cat99R              NA         NA      NA       NA    \n",
       "cat99S       -2362.030    838.035  -2.819 0.004825 ** \n",
       "cat99T              NA         NA      NA       NA    \n",
       "cat100B        182.861     39.312   4.652 3.30e-06 ***\n",
       "cat100C        623.149     85.456   7.292 3.07e-13 ***\n",
       "cat100D       -660.322    108.080  -6.110 1.00e-09 ***\n",
       "cat100E             NA         NA      NA       NA    \n",
       "cat100F        408.151     41.540   9.826  < 2e-16 ***\n",
       "cat100G        811.081     34.038  23.829  < 2e-16 ***\n",
       "cat100H        543.052     34.959  15.534  < 2e-16 ***\n",
       "cat100I          5.502     30.047   0.183 0.854709    \n",
       "cat100J        100.288     32.609   3.075 0.002102 ** \n",
       "cat100K        369.430     33.626  10.986  < 2e-16 ***\n",
       "cat100L        539.282     32.842  16.420  < 2e-16 ***\n",
       "cat100M        457.775     55.640   8.227  < 2e-16 ***\n",
       "cat100N        176.790     37.949   4.659 3.19e-06 ***\n",
       "cat100O        399.944     40.474   9.881  < 2e-16 ***\n",
       "cat101B      46854.949  10788.050   4.343 1.41e-05 ***\n",
       "cat101C      47238.092  10694.882   4.417 1.00e-05 ***\n",
       "cat101D      47312.610  10694.904   4.424 9.70e-06 ***\n",
       "cat101E      39712.448   8608.876   4.613 3.97e-06 ***\n",
       "cat101F      37966.168   8559.171   4.436 9.18e-06 ***\n",
       "cat101G      37902.761   8559.163   4.428 9.50e-06 ***\n",
       "cat101H      26957.450   6728.179   4.007 6.16e-05 ***\n",
       "cat101I      28485.511   6423.669   4.434 9.24e-06 ***\n",
       "cat101J      28484.101   6423.671   4.434 9.25e-06 ***\n",
       "cat101K      19557.001   4640.753   4.214 2.51e-05 ***\n",
       "cat101L      18812.256   4289.066   4.386 1.15e-05 ***\n",
       "cat101M      18950.047   4289.187   4.418 9.96e-06 ***\n",
       "cat101O       9467.510   2157.167   4.389 1.14e-05 ***\n",
       "cat101Q       9619.502   2157.274   4.459 8.24e-06 ***\n",
       "cat101R       -428.690    262.897  -1.631 0.102969    \n",
       "cat101S             NA         NA      NA       NA    \n",
       "cat101U             NA         NA      NA       NA    \n",
       "cat102B      -2911.872    604.341  -4.818 1.45e-06 ***\n",
       "cat102C      -2921.859    604.514  -4.833 1.34e-06 ***\n",
       "cat102D      -2867.872    583.504  -4.915 8.89e-07 ***\n",
       "cat102E      -2737.411    583.022  -4.695 2.67e-06 ***\n",
       "cat102F      -4461.292    815.927  -5.468 4.57e-08 ***\n",
       "cat102G             NA         NA      NA       NA    \n",
       "cat102J             NA         NA      NA       NA    \n",
       "cat103B     -21283.136  10549.217  -2.018 0.043644 *  \n",
       "cat103C     -18856.575   9510.933  -1.983 0.047412 *  \n",
       "cat103D     -16411.934   8473.020  -1.937 0.052752 .  \n",
       "cat103E     -14230.617   7435.600  -1.914 0.055641 .  \n",
       "cat103F     -11628.226   6399.141  -1.817 0.069196 .  \n",
       "cat103G      -9442.535   5364.334  -1.760 0.078369 .  \n",
       "cat103H      -7350.841   4333.729  -1.696 0.089852 .  \n",
       "cat103I      -4426.129   3307.803  -1.338 0.180870    \n",
       "cat103J      -2295.792   2304.700  -0.996 0.319186    \n",
       "cat103K       -811.557   1577.410  -0.514 0.606912    \n",
       "cat103L             NA         NA      NA       NA    \n",
       "cat103N             NA         NA      NA       NA    \n",
       "cat104B       1329.743   2370.380   0.561 0.574810    \n",
       "cat104C       -585.635   2523.947  -0.232 0.816514    \n",
       "cat104D      -3488.416   3513.160  -0.993 0.320733    \n",
       "cat104E         54.724   2059.010   0.027 0.978797    \n",
       "cat104F      -2634.725   3515.820  -0.749 0.453623    \n",
       "cat104G       1201.137   4105.823   0.293 0.769870    \n",
       "cat104H      -3237.368   2900.285  -1.116 0.264328    \n",
       "cat104I      -5024.998   4313.114  -1.165 0.244000    \n",
       "cat104J        238.456   2024.026   0.118 0.906216    \n",
       "cat104K      -4843.125   2987.584  -1.621 0.105002    \n",
       "cat104L       -687.736   2491.422  -0.276 0.782517    \n",
       "cat104M        652.331   2111.709   0.309 0.757390    \n",
       "cat104N     -34781.797   2754.293 -12.628  < 2e-16 ***\n",
       "cat104O        384.663   2048.651   0.188 0.851062    \n",
       "cat104P        139.847   2038.510   0.069 0.945306    \n",
       "cat104Q       2566.332   2469.566   1.039 0.298721    \n",
       "cat105B         58.654   1274.827   0.046 0.963303    \n",
       "cat105C        438.516    564.109   0.777 0.436948    \n",
       "cat105D        271.506    522.201   0.520 0.603117    \n",
       "cat105E        200.593    521.097   0.385 0.700280    \n",
       "cat105F        181.331    521.028   0.348 0.727822    \n",
       "cat105G        148.506    521.658   0.285 0.775889    \n",
       "cat105H        180.472    523.346   0.345 0.730213    \n",
       "cat105I        355.821    526.590   0.676 0.499226    \n",
       "cat105J        465.477    534.800   0.870 0.384096    \n",
       "cat105K        463.798    543.046   0.854 0.393069    \n",
       "cat105L       1577.067    581.207   2.713 0.006660 ** \n",
       "cat105M        693.768    584.788   1.186 0.235483    \n",
       "cat105N       1703.369    640.685   2.659 0.007846 ** \n",
       "cat105O       1773.042   1533.341   1.156 0.247550    \n",
       "cat105P      36161.570   1822.754  19.839  < 2e-16 ***\n",
       "cat105Q      27582.528   4368.880   6.313 2.74e-10 ***\n",
       "cat105R      -8616.099   2433.634  -3.540 0.000400 ***\n",
       "cat105S       -416.861   2804.102  -0.149 0.881821    \n",
       "cat106B      -1668.052   2685.762  -0.621 0.534553    \n",
       "cat106C       -980.990   2574.601  -0.381 0.703185    \n",
       "cat106D       -733.282   2562.554  -0.286 0.774761    \n",
       "cat106E       -922.525   2561.555  -0.360 0.718741    \n",
       "cat106F      -1007.334   2561.354  -0.393 0.694112    \n",
       "cat106G      -1027.140   2561.697  -0.401 0.688450    \n",
       "cat106H      -1005.182   2562.133  -0.392 0.694821    \n",
       "cat106I      -1047.154   2562.048  -0.409 0.682748    \n",
       "cat106J      -1050.312   2562.041  -0.410 0.681842    \n",
       "cat106K       -876.136   2562.672  -0.342 0.732439    \n",
       "cat106L       -924.723   2563.412  -0.361 0.718295    \n",
       "cat106M      -1012.382   2564.758  -0.395 0.693044    \n",
       "cat106N      -1041.618   2573.261  -0.405 0.685636    \n",
       "cat106O       -715.412   2589.321  -0.276 0.782323    \n",
       "cat106P      -2363.805   3207.834  -0.737 0.461193    \n",
       "cat106R      -3330.649   3658.376  -0.910 0.362604    \n",
       "cat107B             NA         NA      NA       NA    \n",
       "cat107C        379.799   2272.990   0.167 0.867298    \n",
       "cat107D        510.526   2263.681   0.226 0.821568    \n",
       "cat107E        446.301   2260.582   0.197 0.843493    \n",
       "cat107F        447.209   2258.863   0.198 0.843061    \n",
       "cat107G        417.877   2257.101   0.185 0.853121    \n",
       "cat107H        466.574   2255.870   0.207 0.836145    \n",
       "cat107I        524.904   2254.543   0.233 0.815901    \n",
       "cat107J        492.551   2253.237   0.219 0.826964    \n",
       "cat107K        505.480   2252.222   0.224 0.822418    \n",
       "cat107L        492.063   2251.516   0.219 0.827003    \n",
       "cat107M        471.618   2251.458   0.209 0.834080    \n",
       "cat107N        471.469   2247.495   0.210 0.833843    \n",
       "cat107O        237.852   2263.918   0.105 0.916327    \n",
       "cat107P        740.072   2264.525   0.327 0.743811    \n",
       "cat107Q        635.619   2262.177   0.281 0.778729    \n",
       "cat107R             NA         NA      NA       NA    \n",
       "cat107S             NA         NA      NA       NA    \n",
       "cat107U             NA         NA      NA       NA    \n",
       "cat108B        240.232     65.818   3.650 0.000262 ***\n",
       "cat108C        -81.394    617.712  -0.132 0.895169    \n",
       "cat108D        171.702     83.019   2.068 0.038621 *  \n",
       "cat108E        481.125    257.376   1.869 0.061577 .  \n",
       "cat108F             NA         NA      NA       NA    \n",
       "cat108G        724.612    598.016   1.212 0.225632    \n",
       "cat108H        234.050     85.308   2.744 0.006078 ** \n",
       "cat108I        350.689    109.975   3.189 0.001429 ** \n",
       "cat108J             NA         NA      NA       NA    \n",
       "cat108K        438.557    250.044   1.754 0.079447 .  \n",
       "cat109AA       258.801    722.090   0.358 0.720040    \n",
       "cat109AB       -25.105    327.772  -0.077 0.938947    \n",
       "cat109AE      -361.630    477.263  -0.758 0.448622    \n",
       "cat109AF     -1058.143    961.447  -1.101 0.271084    \n",
       "cat109AH      -272.474    450.046  -0.605 0.544890    \n",
       "cat109AI     -1136.537   1233.035  -0.922 0.356666    \n",
       "cat109AJ      -382.655   1056.926  -0.362 0.717319    \n",
       "cat109AL      -134.012    399.422  -0.336 0.737237    \n",
       "cat109AM      -142.599    471.411  -0.302 0.762275    \n",
       "cat109AN      -139.318    685.527  -0.203 0.838957    \n",
       "cat109AO       128.133   1495.901   0.086 0.931740    \n",
       "cat109AP      -105.339    986.128  -0.107 0.914931    \n",
       "cat109AQ      -233.487    464.340  -0.503 0.615081    \n",
       "cat109AR       -71.005    371.697  -0.191 0.848503    \n",
       "cat109AS       -64.345    386.522  -0.166 0.867786    \n",
       "cat109AT        50.532    390.179   0.130 0.896954    \n",
       "cat109AU       334.878    595.177   0.563 0.573673    \n",
       "cat109AV      -623.956    888.649  -0.702 0.482593    \n",
       "cat109AW       -34.732    438.988  -0.079 0.936939    \n",
       "cat109AX       131.191    521.587   0.252 0.801410    \n",
       "cat109AY     -2007.523    976.468  -2.056 0.039794 *  \n",
       "cat109BA        17.537    524.056   0.033 0.973304    \n",
       "cat109BB      1142.061    749.176   1.524 0.127405    \n",
       "cat109BC      -834.430    701.483  -1.190 0.234236    \n",
       "cat109BD       280.783    471.626   0.595 0.551610    \n",
       "cat109BE       611.313   1065.092   0.574 0.566000    \n",
       "cat109BF       229.868   2031.171   0.113 0.909896    \n",
       "cat109BG       -73.974   1457.971  -0.051 0.959534    \n",
       "cat109BH       -41.642    361.801  -0.115 0.908370    \n",
       "cat109BI        12.918    326.684   0.040 0.968457    \n",
       "cat109BJ       367.942    590.805   0.623 0.533430    \n",
       "cat109BK     -1607.185   1208.042  -1.330 0.183387    \n",
       "cat109BL       -48.506    395.350  -0.123 0.902353    \n",
       "cat109BM       561.157   2081.322   0.270 0.787456    \n",
       "cat109BN      -943.677   1455.503  -0.648 0.516759    \n",
       "cat109BO       -76.366    372.848  -0.205 0.837715    \n",
       "cat109BP      -696.519   2046.482  -0.340 0.733594    \n",
       "cat109BQ        48.910    338.845   0.144 0.885230    \n",
       "cat109BR      -202.647    631.023  -0.321 0.748104    \n",
       "cat109BS       704.756    754.149   0.935 0.350045    \n",
       "cat109BT       237.930   2033.337   0.117 0.906849    \n",
       "cat109BU       100.088    331.482   0.302 0.762698    \n",
       "cat109BV      1302.956   1481.986   0.879 0.379297    \n",
       "cat109BX       157.413    483.134   0.326 0.744563    \n",
       "cat109BY      1268.959   2030.132   0.625 0.531931    \n",
       "cat109C         12.909    525.346   0.025 0.980396    \n",
       "cat109CA        85.693    440.350   0.195 0.845705    \n",
       "cat109CB       962.651   2042.004   0.471 0.637338    \n",
       "cat109CC       -96.787    493.561  -0.196 0.844532    \n",
       "cat109CD      -126.323    385.289  -0.328 0.743013    \n",
       "cat109CE      -316.306   1058.235  -0.299 0.765017    \n",
       "cat109CF       121.020    831.266   0.146 0.884249    \n",
       "cat109CG       -74.373    887.638  -0.084 0.933225    \n",
       "cat109CH      -346.619    954.236  -0.363 0.716424    \n",
       "cat109CI       -96.167    400.397  -0.240 0.810192    \n",
       "cat109CJ      -272.464    957.688  -0.285 0.776027    \n",
       "cat109CK      -173.373    694.182  -0.250 0.802780    \n",
       "cat109CL       565.669   1452.902   0.389 0.697027    \n",
       "cat109D        170.955    381.908   0.448 0.654419    \n",
       "cat109E       -211.363    829.874  -0.255 0.798960    \n",
       "cat109F        109.673    413.766   0.265 0.790963    \n",
       "cat109G         14.698    337.422   0.044 0.965256    \n",
       "cat109H       -393.112    434.955  -0.904 0.366104    \n",
       "cat109I       -550.183    524.678  -1.049 0.294359    \n",
       "cat109J      -1665.993   2047.746  -0.814 0.415890    \n",
       "cat109K          4.161    331.935   0.013 0.989998    \n",
       "cat109L        370.507    411.605   0.900 0.368040    \n",
       "cat109M         13.295    349.009   0.038 0.969614    \n",
       "cat109N          6.881    377.060   0.018 0.985440    \n",
       "cat109O         24.064    449.695   0.054 0.957325    \n",
       "cat109P       -249.654    784.977  -0.318 0.750455    \n",
       "cat109Q        -99.995    432.616  -0.231 0.817207    \n",
       "cat109R         -7.848    392.058  -0.020 0.984030    \n",
       "cat109S        -45.758    581.255  -0.079 0.937253    \n",
       "cat109T        319.932    537.452   0.595 0.551660    \n",
       "cat109U       -402.710    440.546  -0.914 0.360658    \n",
       "cat109V        723.229    879.987   0.822 0.411156    \n",
       "cat109X        401.364    469.569   0.855 0.392691    \n",
       "cat109Y       -297.915    607.012  -0.491 0.623576    \n",
       "cat109ZZ     -2378.980   2864.576  -0.830 0.406268    \n",
       "cat110AA      -273.335    526.436  -0.519 0.603610    \n",
       "cat110AB        -9.944    324.986  -0.031 0.975590    \n",
       "cat110AC       -28.822     99.301  -0.290 0.771624    \n",
       "cat110AD      -144.456    130.854  -1.104 0.269617    \n",
       "cat110AE       191.311    607.845   0.315 0.752962    \n",
       "cat110AF       840.717   1202.925   0.699 0.484619    \n",
       "cat110AG        56.065   1011.019   0.055 0.955777    \n",
       "cat110AH     -1792.022   1424.667  -1.258 0.208447    \n",
       "cat110AI       -69.471     91.874  -0.756 0.449557    \n",
       "cat110AJ      -304.266    645.302  -0.472 0.637278    \n",
       "cat110AK       -44.146    155.623  -0.284 0.776661    \n",
       "cat110AL      -217.045    302.677  -0.717 0.473323    \n",
       "cat110AM      -210.709    126.662  -1.664 0.096205 .  \n",
       "cat110AN       246.210   2003.403   0.123 0.902190    \n",
       "cat110AO        33.883    446.455   0.076 0.939503    \n",
       "cat110AP      -177.050    136.407  -1.298 0.194307    \n",
       "cat110AR      -777.828    263.796  -2.949 0.003193 ** \n",
       "cat110AS      -948.847   2011.522  -0.472 0.637137    \n",
       "cat110AT        67.406    380.403   0.177 0.859355    \n",
       "cat110AU       654.918    406.549   1.611 0.107199    \n",
       "cat110AV       617.752   1039.615   0.594 0.552371    \n",
       "cat110AW      -838.401    342.820  -2.446 0.014462 *  \n",
       "cat110AX      -225.516    516.785  -0.436 0.662560    \n",
       "cat110AY      -243.795    194.701  -1.252 0.210517    \n",
       "cat110B       -349.640    677.194  -0.516 0.605641    \n",
       "cat110BA      -380.851    309.667  -1.230 0.218747    \n",
       "cat110BB     -2272.860   2011.540  -1.130 0.258516    \n",
       "cat110BC      -148.997     87.896  -1.695 0.090050 .  \n",
       "cat110BE      -461.463   1090.183  -0.423 0.672085    \n",
       "cat110BF      -361.327    565.180  -0.639 0.522620    \n",
       "cat110BG       -92.888    239.526  -0.388 0.698164    \n",
       "cat110BI      1357.819   2030.086   0.669 0.503594    \n",
       "cat110BJ       583.947   1107.179   0.527 0.597904    \n",
       "cat110BL       833.800    704.231   1.184 0.236420    \n",
       "cat110BM      2305.047   2313.624   0.996 0.319109    \n",
       "cat110BN      -555.150   2009.471  -0.276 0.782344    \n",
       "cat110BO      -374.750    385.082  -0.973 0.330470    \n",
       "cat110BP      -166.797     84.100  -1.983 0.047333 *  \n",
       "cat110BQ      -563.102    563.520  -0.999 0.317672    \n",
       "cat110BR       -86.362    357.123  -0.242 0.808915    \n",
       "cat110BS      -130.736     93.836  -1.393 0.163548    \n",
       "cat110BT      -107.483     82.387  -1.305 0.192024    \n",
       "cat110BU      1071.187   1392.068   0.769 0.441602    \n",
       "cat110BV     -1011.214   2017.310  -0.501 0.616183    \n",
       "cat110BW       310.571    688.912   0.451 0.652124    \n",
       "cat110BX      -770.347    472.390  -1.631 0.102946    \n",
       "cat110BY      1130.571   1360.854   0.831 0.406099    \n",
       "cat110C       -160.667     95.128  -1.689 0.091230 .  \n",
       "cat110CB      -481.272   2004.983  -0.240 0.810301    \n",
       "cat110CC       -93.417    676.024  -0.138 0.890094    \n",
       "cat110CD      -865.245    823.740  -1.050 0.293543    \n",
       "cat110CF       271.368    376.269   0.721 0.470783    \n",
       "cat110CG       -94.305    227.958  -0.414 0.679099    \n",
       "cat110CH       224.877    160.477   1.401 0.161125    \n",
       "cat110CI      -244.745    106.690  -2.294 0.021793 *  \n",
       "cat110CJ      -243.835    206.365  -1.182 0.237379    \n",
       "cat110CK      -318.441    449.360  -0.709 0.478540    \n",
       "cat110CL      -152.373     82.049  -1.857 0.063301 .  \n",
       "cat110CM      -134.954    100.826  -1.338 0.180740    \n",
       "cat110CN       -43.167    329.574  -0.131 0.895793    \n",
       "cat110CO      -111.615     81.231  -1.374 0.169431    \n",
       "cat110CP      -263.928    511.690  -0.516 0.605998    \n",
       "cat110CQ      -184.447     86.383  -2.135 0.032745 *  \n",
       "cat110CR      -279.710    117.406  -2.382 0.017201 *  \n",
       "cat110CS      -220.577     79.611  -2.771 0.005595 ** \n",
       "cat110CT       136.860    479.283   0.286 0.775222    \n",
       "cat110CU       -25.201   1418.007  -0.018 0.985821    \n",
       "cat110CV      -300.876    325.559  -0.924 0.355393    \n",
       "cat110CW      -182.864   1160.691  -0.158 0.874813    \n",
       "cat110CX       464.623    903.631   0.514 0.607132    \n",
       "cat110CY        67.915    823.492   0.082 0.934272    \n",
       "cat110D       -174.786    334.732  -0.522 0.601554    \n",
       "cat110DA      -180.196    511.670  -0.352 0.724710    \n",
       "cat110DB     -1511.943   1159.471  -1.304 0.192238    \n",
       "cat110DC       -31.991    430.847  -0.074 0.940810    \n",
       "cat110DD       100.760   1433.561   0.070 0.943966    \n",
       "cat110DE      -483.224    674.199  -0.717 0.473537    \n",
       "cat110DF      -336.878    587.803  -0.573 0.566568    \n",
       "cat110DG      -136.752    541.725  -0.252 0.800703    \n",
       "cat110DH       400.360    225.084   1.779 0.075290 .  \n",
       "cat110DI      -297.214    319.504  -0.930 0.352250    \n",
       "cat110DJ      -368.823    202.172  -1.824 0.068108 .  \n",
       "cat110DK      -189.870    104.278  -1.821 0.068637 .  \n",
       "cat110DL      -368.902    153.466  -2.404 0.016227 *  \n",
       "cat110DM      -214.968    122.816  -1.750 0.080064 .  \n",
       "cat110DN      -990.618   1419.748  -0.698 0.485339    \n",
       "cat110DO     -1802.570    653.689  -2.758 0.005825 ** \n",
       "cat110DP       411.816    685.297   0.601 0.547887    \n",
       "cat110DQ       483.693    614.141   0.788 0.430936    \n",
       "cat110DR      -483.808    449.661  -1.076 0.281957    \n",
       "cat110DS      -130.475    617.674  -0.211 0.832704    \n",
       "cat110DT     -2303.288   2003.833  -1.149 0.250376    \n",
       "cat110DU       104.548    213.927   0.489 0.625048    \n",
       "cat110DW       -87.753     88.677  -0.990 0.322384    \n",
       "cat110DX      -101.871     84.314  -1.208 0.226960    \n",
       "cat110DY       712.700    677.456   1.052 0.292790    \n",
       "cat110E        167.454    202.068   0.829 0.407274    \n",
       "cat110EA        94.153    196.866   0.478 0.632467    \n",
       "cat110EB      -100.781     80.192  -1.257 0.208848    \n",
       "cat110ED     -1390.282   1008.390  -1.379 0.167985    \n",
       "cat110EE       -31.189    104.584  -0.298 0.765538    \n",
       "cat110EF       -71.608    105.775  -0.677 0.498416    \n",
       "cat110EG      -143.713     79.977  -1.797 0.072347 .  \n",
       "cat110EH    -18327.175   4446.711  -4.122 3.77e-05 ***\n",
       "cat110EI       220.288   1429.301   0.154 0.877513    \n",
       "cat110EJ      -590.488   1420.832  -0.416 0.677709    \n",
       "cat110EK       206.779   1082.960   0.191 0.848574    \n",
       "cat110EL      -156.462     83.340  -1.877 0.060465 .  \n",
       "cat110EM     -1021.667   1455.876  -0.702 0.482834    \n",
       "cat110G       -282.562    479.384  -0.589 0.555576    \n",
       "cat110H       -493.425    837.568  -0.589 0.555784    \n",
       "cat110I       -159.246    178.618  -0.892 0.372638    \n",
       "cat110J       -635.214    518.588  -1.225 0.220618    \n",
       "cat110K        -37.427    563.949  -0.066 0.947087    \n",
       "cat110L        501.375    891.193   0.563 0.573716    \n",
       "cat110N       -158.633    182.732  -0.868 0.385330    \n",
       "cat110O       -211.308    283.972  -0.744 0.456808    \n",
       "cat110P       -983.899    695.721  -1.414 0.157301    \n",
       "cat110Q       -160.175   1370.203  -0.117 0.906941    \n",
       "cat110R       -329.665    497.183  -0.663 0.507290    \n",
       "cat110T       -252.954    132.487  -1.909 0.056228 .  \n",
       "cat110U         -7.514    157.319  -0.048 0.961905    \n",
       "cat110V        -22.920    100.515  -0.228 0.819626    \n",
       "cat110W       -290.092     94.437  -3.072 0.002128 ** \n",
       "cat110X       -130.192    412.788  -0.315 0.752460    \n",
       "cat110Y        426.669    783.555   0.545 0.586078    \n",
       "cat111B     -29876.328  15465.975  -1.932 0.053393 .  \n",
       "cat111C     -29408.065  15429.024  -1.906 0.056649 .  \n",
       "cat111D     -24310.121  13978.883  -1.739 0.082026 .  \n",
       "cat111E     -26588.727  13906.710  -1.912 0.055887 .  \n",
       "cat111F     -25668.859  12592.361  -2.038 0.041507 *  \n",
       "cat111G     -23715.247  12384.666  -1.915 0.055509 .  \n",
       "cat111I     -20947.720  10863.017  -1.928 0.053813 .  \n",
       "cat111K     -17852.218   9341.892  -1.911 0.056009 .  \n",
       "cat111M     -14921.377   7822.054  -1.908 0.056445 .  \n",
       "cat111O     -12084.845   6304.077  -1.917 0.055241 .  \n",
       "cat111Q      -9378.759   4792.314  -1.957 0.050345 .  \n",
       "cat111S      -6126.564   3297.513  -1.858 0.063180 .  \n",
       "cat111U      -4587.475   1878.379  -2.442 0.014597 *  \n",
       "cat111W             NA         NA      NA       NA    \n",
       "cat111Y             NA         NA      NA       NA    \n",
       "cat112AA        31.448     87.238   0.360 0.718482    \n",
       "cat112AB       728.365    159.597   4.564 5.03e-06 ***\n",
       "cat112AC       232.057    122.839   1.889 0.058879 .  \n",
       "cat112AD       311.101     94.665   3.286 0.001015 ** \n",
       "cat112AE      -194.291     97.496  -1.993 0.046284 *  \n",
       "cat112AF       237.523     59.107   4.019 5.86e-05 ***\n",
       "cat112AG       206.699     95.762   2.158 0.030894 *  \n",
       "cat112AH       417.226     55.332   7.540 4.71e-14 ***\n",
       "cat112AI      -200.451     58.477  -3.428 0.000609 ***\n",
       "cat112AJ       501.954    202.816   2.475 0.013328 *  \n",
       "cat112AK        71.650     55.520   1.291 0.196868    \n",
       "cat112AL       278.701     93.734   2.973 0.002947 ** \n",
       "cat112AM       248.432    103.862   2.392 0.016761 *  \n",
       "cat112AN       216.086     55.968   3.861 0.000113 ***\n",
       "cat112AO       329.776    114.235   2.887 0.003892 ** \n",
       "cat112AP      -335.688     59.827  -5.611 2.02e-08 ***\n",
       "cat112AQ       357.166    430.777   0.829 0.407038    \n",
       "cat112AR        20.067     66.859   0.300 0.764072    \n",
       "cat112AS       139.630     68.115   2.050 0.040374 *  \n",
       "cat112AT       207.152     95.944   2.159 0.030845 *  \n",
       "cat112AU       -20.834    123.186  -0.169 0.865699    \n",
       "cat112AV      -131.580     56.171  -2.343 0.019156 *  \n",
       "cat112AW       385.981     88.589   4.357 1.32e-05 ***\n",
       "cat112AX        89.807     85.258   1.053 0.292182    \n",
       "cat112AY       220.527     80.157   2.751 0.005939 ** \n",
       "cat112B        681.503    136.580   4.990 6.05e-07 ***\n",
       "cat112BA       258.006    181.968   1.418 0.156232    \n",
       "cat112C        440.020     85.723   5.133 2.85e-07 ***\n",
       "cat112D         30.628     84.421   0.363 0.716750    \n",
       "cat112E        498.812     77.147   6.466 1.01e-10 ***\n",
       "cat112F        181.941     79.164   2.298 0.021548 *  \n",
       "cat112G        247.538     68.453   3.616 0.000299 ***\n",
       "cat112H          5.657    110.401   0.051 0.959134    \n",
       "cat112I       -154.334     89.836  -1.718 0.085807 .  \n",
       "cat112J       -203.477     50.348  -4.041 5.31e-05 ***\n",
       "cat112K        236.897     55.679   4.255 2.09e-05 ***\n",
       "cat112L        579.749    131.560   4.407 1.05e-05 ***\n",
       "cat112M         64.490    128.502   0.502 0.615768    \n",
       "cat112N        105.503     60.395   1.747 0.080662 .  \n",
       "cat112O        -22.620     69.636  -0.325 0.745308    \n",
       "cat112P        188.939    126.824   1.490 0.136288    \n",
       "cat112Q        201.279    101.427   1.984 0.047204 *  \n",
       "cat112R         35.547     83.651   0.425 0.670877    \n",
       "cat112S        123.956     70.673   1.754 0.079441 .  \n",
       "cat112T       -165.988    115.913  -1.432 0.152147    \n",
       "cat112U          6.712     55.577   0.121 0.903868    \n",
       "cat112V        236.353    105.321   2.244 0.024826 *  \n",
       "cat112W        156.256    118.349   1.320 0.186736    \n",
       "cat112X        275.364     92.521   2.976 0.002919 ** \n",
       "cat112Y         -8.609     78.966  -0.109 0.913188    \n",
       "cat113AB       -65.295    556.228  -0.117 0.906552    \n",
       "cat113AD      -169.657    120.894  -1.403 0.160512    \n",
       "cat113AE      -127.962     72.320  -1.769 0.076832 .  \n",
       "cat113AF       -67.976     84.524  -0.804 0.421270    \n",
       "cat113AG       413.803     81.449   5.080 3.77e-07 ***\n",
       "cat113AH      -165.617    175.544  -0.943 0.345452    \n",
       "cat113AI       481.549    156.993   3.067 0.002160 ** \n",
       "cat113AJ      -187.093     90.240  -2.073 0.038148 *  \n",
       "cat113AK      -251.234    124.664  -2.015 0.043876 *  \n",
       "cat113AL    -36114.894   3199.825 -11.287  < 2e-16 ***\n",
       "cat113AM       525.171    162.273   3.236 0.001211 ** \n",
       "cat113AN       399.096     70.563   5.656 1.55e-08 ***\n",
       "cat113AO       -43.766     92.113  -0.475 0.634693    \n",
       "cat113AP      1460.905   1044.813   1.398 0.162041    \n",
       "cat113AQ      5381.583    579.297   9.290  < 2e-16 ***\n",
       "cat113AR      1170.908   2172.703   0.539 0.589945    \n",
       "cat113AS        -3.805     85.031  -0.045 0.964304    \n",
       "cat113AT       584.219    352.976   1.655 0.097901 .  \n",
       "cat113AU      -156.732    145.291  -1.079 0.280705    \n",
       "cat113AV       293.989    203.555   1.444 0.148665    \n",
       "cat113AW      -158.724     93.636  -1.695 0.090056 .  \n",
       "cat113AX      -208.891     81.457  -2.564 0.010336 *  \n",
       "cat113AY      -366.877    149.843  -2.448 0.014350 *  \n",
       "cat113B       6151.057   3505.472   1.755 0.079313 .  \n",
       "cat113BA      -824.499    387.295  -2.129 0.033267 *  \n",
       "cat113BB      -437.397    361.041  -1.211 0.225711    \n",
       "cat113BC      -302.848    123.604  -2.450 0.014281 *  \n",
       "cat113BD       877.004    164.129   5.343 9.14e-08 ***\n",
       "cat113BE     43964.537   2951.412  14.896  < 2e-16 ***\n",
       "cat113BF      -265.445    350.183  -0.758 0.448442    \n",
       "cat113BG      -228.738     98.676  -2.318 0.020448 *  \n",
       "cat113BH        65.485    111.321   0.588 0.556363    \n",
       "cat113BI            NA         NA      NA       NA    \n",
       "cat113BJ         2.550     96.963   0.026 0.979015    \n",
       "cat113BK       100.500    130.270   0.771 0.440427    \n",
       "cat113BL      2991.435   1830.415   1.634 0.102200    \n",
       "cat113BM       -37.431     86.514  -0.433 0.665264    \n",
       "cat113BN        77.434    117.598   0.658 0.510244    \n",
       "cat113BO      -154.622    172.226  -0.898 0.369301    \n",
       "cat113C        531.242    240.850   2.206 0.027407 *  \n",
       "cat113E      17542.930   1180.782  14.857  < 2e-16 ***\n",
       "cat113F        869.511    109.921   7.910 2.59e-15 ***\n",
       "cat113G      13741.352   1654.813   8.304  < 2e-16 ***\n",
       "cat113H        484.842     81.274   5.966 2.44e-09 ***\n",
       "cat113I       -114.548    107.325  -1.067 0.285836    \n",
       "cat113J        189.673     85.376   2.222 0.026310 *  \n",
       "cat113K       -365.298    115.893  -3.152 0.001622 ** \n",
       "cat113L       -322.906    117.846  -2.740 0.006143 ** \n",
       "cat113M       -301.908    101.473  -2.975 0.002928 ** \n",
       "cat113N       -425.051     98.577  -4.312 1.62e-05 ***\n",
       "cat113O        -21.515   1007.990  -0.021 0.982971    \n",
       "cat113P       2142.216   3513.913   0.610 0.542102    \n",
       "cat113Q       -281.119    114.648  -2.452 0.014207 *  \n",
       "cat113S       -506.181    119.814  -4.225 2.39e-05 ***\n",
       "cat113T       -401.426   2003.861  -0.200 0.841226    \n",
       "cat113U      18810.898   1725.146  10.904  < 2e-16 ***\n",
       "cat113V        657.402   1654.949   0.397 0.691196    \n",
       "cat113X       -184.783    135.235  -1.366 0.171820    \n",
       "cat113Y       -279.635    110.349  -2.534 0.011275 *  \n",
       "cat114B        275.968   3430.901   0.080 0.935891    \n",
       "cat114C       -164.285   3271.300  -0.050 0.959947    \n",
       "cat114D        744.438   3308.193   0.225 0.821957    \n",
       "cat114E       -104.607   3271.099  -0.032 0.974489    \n",
       "cat114F       -220.842   2990.168  -0.074 0.941125    \n",
       "cat114G       1987.448   4079.622   0.487 0.626142    \n",
       "cat114I       -213.845   2730.485  -0.078 0.937575    \n",
       "cat114J       -128.137   2990.094  -0.043 0.965818    \n",
       "cat114L        -56.602   2497.565  -0.023 0.981919    \n",
       "cat114N       -120.895   2729.962  -0.044 0.964678    \n",
       "cat114O        106.970   2303.750   0.046 0.962965    \n",
       "cat114Q        261.150   2184.853   0.120 0.904858    \n",
       "cat114R         24.368   2497.720   0.010 0.992216    \n",
       "cat114S       -105.669   2272.441  -0.047 0.962912    \n",
       "cat114U       -296.093   2303.353  -0.129 0.897715    \n",
       "cat114V       1256.845   2199.259   0.571 0.567671    \n",
       "cat114W      -3112.048   2860.766  -1.088 0.276669    \n",
       "cat114X             NA         NA      NA       NA    \n",
       "cat115B             NA         NA      NA       NA    \n",
       "cat115C             NA         NA      NA       NA    \n",
       "cat115D             NA         NA      NA       NA    \n",
       "cat115E       3275.838   1972.266   1.661 0.096725 .  \n",
       "cat115F       1984.062   1012.183   1.960 0.049977 *  \n",
       "cat115G       1848.142    985.805   1.875 0.060829 .  \n",
       "cat115H       1303.643    969.226   1.345 0.178616    \n",
       "cat115I       1423.783    962.195   1.480 0.138949    \n",
       "cat115J       1436.839    958.015   1.500 0.133666    \n",
       "cat115K       1403.825    954.873   1.470 0.141518    \n",
       "cat115L       1413.972    952.193   1.485 0.137556    \n",
       "cat115M       1225.682    948.439   1.292 0.196251    \n",
       "cat115N       1230.307    945.684   1.301 0.193271    \n",
       "cat115O       1258.602    943.516   1.334 0.182223    \n",
       "cat115P       1213.642    941.824   1.289 0.197537    \n",
       "cat115Q       1229.081    940.568   1.307 0.191302    \n",
       "cat115R       1343.746    939.646   1.430 0.152703    \n",
       "cat115S       1075.773    947.147   1.136 0.256041    \n",
       "cat115T       1324.971   1007.296   1.315 0.188386    \n",
       "cat115U        636.183   1076.509   0.591 0.554542    \n",
       "cat115W             NA         NA      NA       NA    \n",
       "cat115X             NA         NA      NA       NA    \n",
       "cat116AB       401.042   2524.418   0.159 0.873775    \n",
       "cat116AC       902.697   1532.252   0.589 0.555774    \n",
       "cat116AD     -4182.694   2557.804  -1.635 0.101995    \n",
       "cat116AE     -3075.045   2373.857  -1.295 0.195192    \n",
       "cat116AF            NA         NA      NA       NA    \n",
       "cat116AG     -3128.645   2170.396  -1.442 0.149443    \n",
       "cat116AJ       762.991   1758.686   0.434 0.664404    \n",
       "cat116AK      3761.581   3065.250   1.227 0.219761    \n",
       "cat116AL       289.077   1728.330   0.167 0.867167    \n",
       "cat116AO      3192.980   2901.444   1.100 0.271125    \n",
       "cat116AR            NA         NA      NA       NA    \n",
       "cat116AS      5271.841   3511.509   1.501 0.133279    \n",
       "cat116AT      2114.944   3511.219   0.602 0.546950    \n",
       "cat116AU       -27.034   2463.306  -0.011 0.991244    \n",
       "cat116AV      -578.455   1472.696  -0.393 0.694478    \n",
       "cat116AW      -156.761    668.276  -0.235 0.814539    \n",
       "cat116AX        41.465    783.181   0.053 0.957776    \n",
       "cat116AY       385.663   2071.318   0.186 0.852294    \n",
       "cat116B       3036.859   2203.964   1.378 0.168234    \n",
       "cat116BA       -74.205    838.464  -0.089 0.929478    \n",
       "cat116BB      -845.197   2099.007  -0.403 0.687195    \n",
       "cat116BD       206.797    471.454   0.439 0.660924    \n",
       "cat116BF      2952.501   2076.015   1.422 0.154972    \n",
       "cat116BI      2858.849   3513.792   0.814 0.415871    \n",
       "cat116BK      3104.092   2957.883   1.049 0.293982    \n",
       "cat116BL      -379.562   2532.580  -0.150 0.880866    \n",
       "cat116BM      4187.302   3504.750   1.195 0.232186    \n",
       "cat116BO      3116.423   2920.576   1.067 0.285948    \n",
       "cat116BP      3213.292   2907.983   1.105 0.269166    \n",
       "cat116BQ      3174.182   3041.835   1.044 0.296714    \n",
       "cat116BS      -484.895    705.179  -0.688 0.491693    \n",
       "cat116BT            NA         NA      NA       NA    \n",
       "cat116BU       946.566   1918.263   0.493 0.621696    \n",
       "cat116BV      -323.788    190.019  -1.704 0.088387 .  \n",
       "cat116BW            NA         NA      NA       NA    \n",
       "cat116BX     -3366.241   1581.275  -2.129 0.033271 *  \n",
       "cat116BY       304.335   1513.592   0.201 0.840645    \n",
       "cat116CA      -332.598    557.466  -0.597 0.550759    \n",
       "cat116CB       351.339   1510.342   0.233 0.816055    \n",
       "cat116CC     -1443.015   3254.558  -0.443 0.657489    \n",
       "cat116CD       618.073   1520.393   0.407 0.684360    \n",
       "cat116CE       136.182   1616.520   0.084 0.932862    \n",
       "cat116CF     -3517.501   1603.684  -2.193 0.028281 *  \n",
       "cat116CG     -3135.034   1589.774  -1.972 0.048612 *  \n",
       "cat116CH         4.609   1552.367   0.003 0.997631    \n",
       "cat116CI       345.307   1510.059   0.229 0.819125    \n",
       "cat116CJ      -524.905   2931.712  -0.179 0.857903    \n",
       "cat116CK      3370.547   2874.737   1.172 0.241010    \n",
       "cat116CL      2639.083   3682.866   0.717 0.473632    \n",
       "cat116CM      3118.209   2904.474   1.074 0.283009    \n",
       "cat116CN     -1728.043   2187.146  -0.790 0.429476    \n",
       "cat116CO      -813.108   2011.069  -0.404 0.685981    \n",
       "cat116CP      3465.971   2879.021   1.204 0.228641    \n",
       "cat116CQ     -3321.996   2915.966  -1.139 0.254604    \n",
       "cat116CR      3387.896   2873.988   1.179 0.238474    \n",
       "cat116CS      3358.170   2877.386   1.167 0.243176    \n",
       "cat116CT      3540.932   2888.446   1.226 0.220240    \n",
       "cat116CU      3302.591   2876.452   1.148 0.250910    \n",
       "cat116CV       336.083   2073.192   0.162 0.871220    \n",
       "cat116CW      -446.275   2006.864  -0.222 0.824023    \n",
       "cat116CX     -5671.299   3035.809  -1.868 0.061745 .  \n",
       "cat116CY     -1758.252   2454.973  -0.716 0.473869    \n",
       "cat116D       2334.638   2894.481   0.807 0.419908    \n",
       "cat116DA      3042.602   2896.013   1.051 0.293436    \n",
       "cat116DC      3387.233   2873.612   1.179 0.238505    \n",
       "cat116DD     -1723.539   2183.125  -0.789 0.429832    \n",
       "cat116DE      3712.558   3006.621   1.235 0.216909    \n",
       "cat116DF      -128.245    404.503  -0.317 0.751210    \n",
       "cat116DG        36.022    588.699   0.061 0.951209    \n",
       "cat116DH     -4063.859   2097.051  -1.938 0.052638 .  \n",
       "cat116DI       -34.554    417.250  -0.083 0.933999    \n",
       "cat116DJ       -85.077    401.247  -0.212 0.832083    \n",
       "cat116DK       -67.669    424.506  -0.159 0.873349    \n",
       "cat116DL     -4850.369   2222.068  -2.183 0.029051 *  \n",
       "cat116DM      -125.668    557.639  -0.225 0.821701    \n",
       "cat116DN     -3798.456   2101.619  -1.807 0.070703 .  \n",
       "cat116DO       204.730   1083.516   0.189 0.850133    \n",
       "cat116DP       -92.557    402.429  -0.230 0.818095    \n",
       "cat116DQ     -3274.571   3523.355  -0.929 0.352689    \n",
       "cat116DR     -3722.770   2286.103  -1.628 0.103435    \n",
       "cat116DS      -100.361    414.623  -0.242 0.808739    \n",
       "cat116DT      2645.501   2894.518   0.914 0.360734    \n",
       "cat116DU      2617.726   2888.912   0.906 0.364869    \n",
       "cat116DV      5444.561   3101.721   1.755 0.079204 .  \n",
       "cat116DW      -479.773   2052.080  -0.234 0.815142    \n",
       "cat116DX     -4376.740   2083.779  -2.100 0.035697 *  \n",
       "cat116DY     -4762.537   2897.522  -1.644 0.100249    \n",
       "cat116E       2964.950   2110.586   1.405 0.160083    \n",
       "cat116EA      -701.115   2013.688  -0.348 0.727710    \n",
       "cat116EB     -1176.632   2079.478  -0.566 0.571510    \n",
       "cat116EC      -442.555   2011.212  -0.220 0.825837    \n",
       "cat116ED      -348.796   2019.383  -0.173 0.862869    \n",
       "cat116EE      -121.358   2042.114  -0.059 0.952612    \n",
       "cat116EF     -4121.267   2140.983  -1.925 0.054239 .  \n",
       "cat116EG      -627.910   2037.172  -0.308 0.757911    \n",
       "cat116EH      -619.863   2024.658  -0.306 0.759486    \n",
       "cat116EI     -3649.280   2100.406  -1.737 0.082316 .  \n",
       "cat116EJ       568.663   2153.147   0.264 0.791697    \n",
       "cat116EK            NA         NA      NA       NA    \n",
       "cat116EL      2776.278   2552.859   1.088 0.276810    \n",
       "cat116EN      -737.263   1496.279  -0.493 0.622203    \n",
       "cat116EO      -878.908   1478.103  -0.595 0.552099    \n",
       "cat116EP      -625.835   1481.710  -0.422 0.672753    \n",
       "cat116EQ       479.564   3473.390   0.138 0.890187    \n",
       "cat116ES       918.872   2026.230   0.453 0.650198    \n",
       "cat116EU      -446.164   2040.958  -0.219 0.826958    \n",
       "cat116EV            NA         NA      NA       NA    \n",
       "cat116EW      -121.931   2286.682  -0.053 0.957475    \n",
       "cat116EY       -86.286    459.715  -0.188 0.851117    \n",
       "cat116F       1888.063   1273.608   1.482 0.138222    \n",
       "cat116FA       150.259    533.244   0.282 0.778110    \n",
       "cat116FB        92.784    421.141   0.220 0.825625    \n",
       "cat116FC        90.719    424.388   0.214 0.830732    \n",
       "cat116FD     -1152.946   3577.645  -0.322 0.747253    \n",
       "cat116FE     -1053.404   3579.384  -0.294 0.768531    \n",
       "cat116FF     -3785.743   2141.268  -1.768 0.077065 .  \n",
       "cat116FG     -4233.268   2111.345  -2.005 0.044964 *  \n",
       "cat116FH     -3698.686   2103.678  -1.758 0.078716 .  \n",
       "cat116FI            NA         NA      NA       NA    \n",
       "cat116FJ            NA         NA      NA       NA    \n",
       "cat116FK      2175.019   3211.232   0.677 0.498207    \n",
       "cat116FL      3056.646   3211.983   0.952 0.341282    \n",
       "cat116FM      -952.891   3480.261  -0.274 0.784240    \n",
       "cat116FP      2115.675   4100.593   0.516 0.605895    \n",
       "cat116FQ      4003.732   2953.546   1.356 0.175239    \n",
       "cat116FR      3340.948   2083.286   1.604 0.108784    \n",
       "cat116FT      3319.992   2085.704   1.592 0.111435    \n",
       "cat116FU      -421.507    604.896  -0.697 0.485913    \n",
       "cat116FV      5704.943   4679.873   1.219 0.222832    \n",
       "cat116FW      8440.104   4645.076   1.817 0.069219 .  \n",
       "cat116FX      2726.647   2917.902   0.934 0.350071    \n",
       "cat116G       -622.152   2052.721  -0.303 0.761825    \n",
       "cat116GA      1010.906   1522.074   0.664 0.506587    \n",
       "cat116GB        -8.710    771.867  -0.011 0.990996    \n",
       "cat116GC      2609.277   2877.755   0.907 0.364564    \n",
       "cat116GD     -2166.107   3756.998  -0.577 0.564243    \n",
       "cat116GE      3419.779   2082.529   1.642 0.100566    \n",
       "cat116GF      3057.089   2132.396   1.434 0.151677    \n",
       "cat116GG     -4733.605   2278.224  -2.078 0.037733 *  \n",
       "cat116GH     -5649.469   2267.753  -2.491 0.012732 *  \n",
       "cat116GI      -115.284    403.478  -0.286 0.775088    \n",
       "cat116GJ       225.714    287.325   0.786 0.432120    \n",
       "cat116GK      -110.946    404.418  -0.274 0.783827    \n",
       "cat116GL     -5258.535   2205.178  -2.385 0.017098 *  \n",
       "cat116GM     -4433.309   2115.998  -2.095 0.036160 *  \n",
       "cat116GN      2380.935   2879.711   0.827 0.408354    \n",
       "cat116GO      1962.246   2928.137   0.670 0.502773    \n",
       "cat116GP      -555.141   2092.255  -0.265 0.790755    \n",
       "cat116GQ     -1049.418   2494.236  -0.421 0.673948    \n",
       "cat116GR      2565.195   2894.787   0.886 0.375542    \n",
       "cat116GS      2603.677   2877.237   0.905 0.365508    \n",
       "cat116GT     -2072.528   2189.160  -0.947 0.343782    \n",
       "cat116GU      3082.532   2899.656   1.063 0.287753    \n",
       "cat116GV      1759.131   2569.964   0.684 0.493663    \n",
       "cat116GW      -269.279   2031.257  -0.133 0.894536    \n",
       "cat116GX      -665.068   2016.114  -0.330 0.741494    \n",
       "cat116GY      1942.984   2963.927   0.656 0.512119    \n",
       "cat116H       2016.560    574.651   3.509 0.000450 ***\n",
       "cat116HA      2555.689   2878.342   0.888 0.374594    \n",
       "cat116HB      2647.908   2877.513   0.920 0.357466    \n",
       "cat116HC      2421.375   2898.857   0.835 0.403558    \n",
       "cat116HD      2458.659   2927.743   0.840 0.401033    \n",
       "cat116HE      1586.919   2330.112   0.681 0.495842    \n",
       "cat116HF      2241.742   2910.599   0.770 0.441183    \n",
       "cat116HG     -1098.612   3574.555  -0.307 0.758583    \n",
       "cat116HH     -5891.179   2627.885  -2.242 0.024976 *  \n",
       "cat116HI     -4793.826   2515.629  -1.906 0.056702 .  \n",
       "cat116HJ     -1010.468   3574.659  -0.283 0.777426    \n",
       "cat116HK     -1154.774   3573.941  -0.323 0.746613    \n",
       "cat116HL     -1135.432   3576.958  -0.317 0.750918    \n",
       "cat116HM     -5764.871   2626.817  -2.195 0.028192 *  \n",
       "cat116HN      -725.268   3591.507  -0.202 0.839964    \n",
       "cat116HP     -4830.083   2495.214  -1.936 0.052902 .  \n",
       "cat116HQ     -1268.705   3574.255  -0.355 0.722623    \n",
       "cat116HR     -6328.973   2639.261  -2.398 0.016486 *  \n",
       "cat116HT     -5086.427   2494.675  -2.039 0.041461 *  \n",
       "cat116HU     14943.363   4105.811   3.640 0.000273 ***\n",
       "cat116HV     -1154.210   3574.096  -0.323 0.746743    \n",
       "cat116HW     -1803.365   3597.550  -0.501 0.616178    \n",
       "cat116HX      3432.658   2081.297   1.649 0.099091 .  \n",
       "cat116HY      -337.877    377.455  -0.895 0.370711    \n",
       "cat116I      -2865.634   1635.550  -1.752 0.079760 .  \n",
       "cat116IA      3070.625   1230.634   2.495 0.012591 *  \n",
       "cat116IB       410.829   2497.383   0.165 0.869335    \n",
       "cat116IC      3431.841   2082.834   1.648 0.099421 .  \n",
       "cat116ID     -1337.229    925.536  -1.445 0.148512    \n",
       "cat116IE      3303.446   2080.744   1.588 0.112373    \n",
       "cat116IF     -1349.193    911.247  -1.481 0.138715    \n",
       "cat116IG      3233.611   2081.532   1.553 0.120312    \n",
       "cat116IH      5157.216   3812.024   1.353 0.176096    \n",
       "cat116II      5188.055   3863.357   1.343 0.179310    \n",
       "cat116IJ        26.578   2353.513   0.011 0.990990    \n",
       "cat116IL      -966.477   2158.009  -0.448 0.654258    \n",
       "cat116IM      -738.702   2051.399  -0.360 0.718775    \n",
       "cat116IN      -417.214   2048.159  -0.204 0.838587    \n",
       "cat116IO      4520.828   3213.372   1.407 0.159465    \n",
       "cat116IP      4588.585   4368.156   1.050 0.293507    \n",
       "cat116IQ            NA         NA      NA       NA    \n",
       "cat116IR     -1789.830   3213.998  -0.557 0.577606    \n",
       "cat116IT     -2151.983   3320.127  -0.648 0.516881    \n",
       "cat116IU     -2209.293   3329.727  -0.664 0.507008    \n",
       "cat116IV            NA         NA      NA       NA    \n",
       "cat116IX            NA         NA      NA       NA    \n",
       "cat116IY      3277.147   2096.263   1.563 0.117978    \n",
       "cat116JB       -45.336   1190.657  -0.038 0.969627    \n",
       "cat116JC       240.450    569.807   0.422 0.673037    \n",
       "cat116JD       397.666   2865.465   0.139 0.889625    \n",
       "cat116JE       -38.999    609.498  -0.064 0.948982    \n",
       "cat116JF       262.556    583.732   0.450 0.652864    \n",
       "cat116JG      -213.442   1029.378  -0.207 0.835737    \n",
       "cat116JH       652.502   1041.280   0.627 0.530900    \n",
       "cat116JJ      -156.567   2208.276  -0.071 0.943477    \n",
       "cat116JK     -1060.750   2985.905  -0.355 0.722401    \n",
       "cat116JL      5067.494   2221.158   2.281 0.022522 *  \n",
       "cat116JM       783.432   1542.037   0.508 0.611419    \n",
       "cat116JN            NA         NA      NA       NA    \n",
       "cat116JO      5106.952   4028.767   1.268 0.204935    \n",
       "cat116JP     31861.374   2647.826  12.033  < 2e-16 ***\n",
       "cat116JQ       159.730    816.230   0.196 0.844851    \n",
       "cat116JR      1259.310   1464.435   0.860 0.389830    \n",
       "cat116JT            NA         NA      NA       NA    \n",
       "cat116JU      -453.983    791.883  -0.573 0.566446    \n",
       "cat116JV      4316.847   2366.171   1.824 0.068093 .  \n",
       "cat116JW      1077.151   1521.084   0.708 0.478855    \n",
       "cat116JX       433.681    776.799   0.558 0.576645    \n",
       "cat116JY     -1662.546   1277.806  -1.301 0.193229    \n",
       "cat116K      35500.014   1889.428  18.789  < 2e-16 ***\n",
       "cat116KA      -163.024    763.281  -0.214 0.830872    \n",
       "cat116KB            NA         NA      NA       NA    \n",
       "cat116KC      5256.404   3810.944   1.379 0.167807    \n",
       "cat116KD       180.987    241.646   0.749 0.453872    \n",
       "cat116KE       451.073    423.773   1.064 0.287140    \n",
       "cat116KF      1843.766   2034.747   0.906 0.364863    \n",
       "cat116KG      -499.783   3713.835  -0.135 0.892950    \n",
       "cat116KH    -12875.380   4504.295  -2.858 0.004258 ** \n",
       "cat116KI      3240.330   2089.263   1.551 0.120917    \n",
       "cat116KJ      3371.100   2091.604   1.612 0.107023    \n",
       "cat116KK      2864.849   2160.082   1.326 0.184753    \n",
       "cat116KL      4004.347   2084.100   1.921 0.054686 .  \n",
       "cat116KM      2636.368   2179.938   1.209 0.226520    \n",
       "cat116KN            NA         NA      NA       NA    \n",
       "cat116KP      5464.106   3813.090   1.433 0.151864    \n",
       "cat116KQ      5093.135   3797.440   1.341 0.179857    \n",
       "cat116KR      5191.732   3811.292   1.362 0.173138    \n",
       "cat116KT      2437.863   2513.252   0.970 0.332046    \n",
       "cat116KU      4978.535   3815.978   1.305 0.192012    \n",
       "cat116KV      1310.385   2881.319   0.455 0.649264    \n",
       "cat116KW      5054.639   3810.865   1.326 0.184717    \n",
       "cat116KX       330.390   2602.066   0.127 0.898963    \n",
       "cat116KY      3155.107   2570.740   1.227 0.219706    \n",
       "cat116L       1826.535    867.775   2.105 0.035306 *  \n",
       "cat116LA      5060.507   3873.339   1.306 0.191386    \n",
       "cat116LB      5216.464   3810.641   1.369 0.171026    \n",
       "cat116LC       182.287   2599.965   0.070 0.944105    \n",
       "cat116LD      6532.222   3800.277   1.719 0.085638 .  \n",
       "cat116LE      5179.447   3941.723   1.314 0.188846    \n",
       "cat116LF       -38.975    174.960  -0.223 0.823717    \n",
       "cat116LG     -3066.437   2259.470  -1.357 0.174736    \n",
       "cat116LH      -201.988    458.203  -0.441 0.659339    \n",
       "cat116LI       361.310    230.264   1.569 0.116623    \n",
       "cat116LJ       642.368    404.278   1.589 0.112080    \n",
       "cat116LK     -3815.488   2120.409  -1.799 0.071956 .  \n",
       "cat116LL            NA         NA      NA       NA    \n",
       "cat116LM      5111.186   2201.202   2.322 0.020234 *  \n",
       "cat116LN       178.009    264.660   0.673 0.501206    \n",
       "cat116LO      5225.686   2201.577   2.374 0.017616 *  \n",
       "cat116LQ       220.531    276.635   0.797 0.425341    \n",
       "cat116LR      6104.721   2205.266   2.768 0.005637 ** \n",
       "cat116LT      2804.788    875.436   3.204 0.001356 ** \n",
       "cat116LU      5157.343   2670.231   1.931 0.053433 .  \n",
       "cat116LV      6769.557   2176.530   3.110 0.001870 ** \n",
       "cat116LW      4764.927   2202.781   2.163 0.030532 *  \n",
       "cat116LX       137.920    288.331   0.478 0.632409    \n",
       "cat116LY      4980.543   2200.249   2.264 0.023599 *  \n",
       "cat116M             NA         NA      NA       NA    \n",
       "cat116MA            NA         NA      NA       NA    \n",
       "cat116MB      6622.654   2995.497   2.211 0.027046 *  \n",
       "cat116MC            NA         NA      NA       NA    \n",
       "cat116MD      5059.808   2200.752   2.299 0.021499 *  \n",
       "cat116ME      1025.188   1467.849   0.698 0.484910    \n",
       "cat116MG      1208.416   1466.753   0.824 0.410014    \n",
       "cat116MH            NA         NA      NA       NA    \n",
       "cat116MI      1305.295   1480.918   0.881 0.378098    \n",
       "cat116MJ      1047.239   1463.372   0.716 0.474218    \n",
       "cat116MK       446.446   1489.282   0.300 0.764351    \n",
       "cat116ML     -3310.237   1680.485  -1.970 0.048862 *  \n",
       "cat116MM            NA         NA      NA       NA    \n",
       "cat116MN            NA         NA      NA       NA    \n",
       "cat116MO            NA         NA      NA       NA    \n",
       "cat116MP            NA         NA      NA       NA    \n",
       "cat116MQ      1619.088    809.328   2.001 0.045445 *  \n",
       "cat116MR      6177.112   2532.137   2.439 0.014709 *  \n",
       "cat116MU            NA         NA      NA       NA    \n",
       "cat116MV            NA         NA      NA       NA    \n",
       "cat116MW            NA         NA      NA       NA    \n",
       "cat116O       5764.699   2614.653   2.205 0.027472 *  \n",
       "cat116P      18810.003   3155.780   5.960 2.52e-09 ***\n",
       "cat116R        510.612   2130.807   0.240 0.810615    \n",
       "cat116S       1206.922   2032.962   0.594 0.552729    \n",
       "cat116T             NA         NA      NA       NA    \n",
       "cat116U             NA         NA      NA       NA    \n",
       "cat116V             NA         NA      NA       NA    \n",
       "cat116W             NA         NA      NA       NA    \n",
       "cat116X             NA         NA      NA       NA    \n",
       "cat116Y             NA         NA      NA       NA    \n",
       "cont1         -522.354    239.128  -2.184 0.028934 *  \n",
       "cont2         1354.281     57.429  23.582  < 2e-16 ***\n",
       "cont3          587.786    168.677   3.485 0.000493 ***\n",
       "cont4           83.774    150.134   0.558 0.576846    \n",
       "cont5          -66.992     46.630  -1.437 0.150807    \n",
       "cont6         -257.546    283.616  -0.908 0.363837    \n",
       "cont7          943.875    131.311   7.188 6.60e-13 ***\n",
       "cont8          148.084     68.913   2.149 0.031646 *  \n",
       "cont9          520.900    171.623   3.035 0.002405 ** \n",
       "cont10         285.754    213.554   1.338 0.180869    \n",
       "cont11        -390.788    320.629  -1.219 0.222915    \n",
       "cont12         460.936    409.696   1.125 0.260561    \n",
       "cont13         345.800    444.615   0.778 0.436717    \n",
       "cont14         156.739    146.505   1.070 0.284688    \n",
       "---\n",
       "Signif. codes:  0 '***' 0.001 '**' 0.01 '*' 0.05 '.' 0.1 ' ' 1\n",
       "\n",
       "Residual standard error: 2000 on 140307 degrees of freedom\n",
       "Multiple R-squared:  0.5267,\tAdjusted R-squared:  0.5235 \n",
       "F-statistic: 167.5 on 932 and 140307 DF,  p-value: < 2.2e-16\n"
      ]
     },
     "metadata": {},
     "output_type": "display_data"
    }
   ],
   "source": [
    "summary(lineamrmodel)"
   ]
  },
  {
   "cell_type": "code",
   "execution_count": 2,
   "metadata": {
    "collapsed": true,
    "scrolled": true
   },
   "outputs": [],
   "source": [
    "load(\"Allstate.RData\")"
   ]
  },
  {
   "cell_type": "code",
   "execution_count": 3,
   "metadata": {
    "collapsed": false
   },
   "outputs": [
    {
     "data": {
      "text/html": [
       "<ol class=list-inline>\n",
       "\t<li>'bestmodel'</li>\n",
       "\t<li>'coeff'</li>\n",
       "\t<li>'col'</li>\n",
       "\t<li>'corr_mat'</li>\n",
       "\t<li>'cv.out'</li>\n",
       "\t<li>'i'</li>\n",
       "\t<li>'indata'</li>\n",
       "\t<li>'inTrain'</li>\n",
       "\t<li>'lineamrmodel'</li>\n",
       "\t<li>'multiplot'</li>\n",
       "\t<li>'p1'</li>\n",
       "\t<li>'plots'</li>\n",
       "\t<li>'pp'</li>\n",
       "\t<li>'test'</li>\n",
       "\t<li>'testx'</li>\n",
       "\t<li>'train'</li>\n",
       "\t<li>'var'</li>\n",
       "\t<li>'x'</li>\n",
       "\t<li>'y'</li>\n",
       "</ol>\n"
      ],
      "text/latex": [
       "\\begin{enumerate*}\n",
       "\\item 'bestmodel'\n",
       "\\item 'coeff'\n",
       "\\item 'col'\n",
       "\\item 'corr\\_mat'\n",
       "\\item 'cv.out'\n",
       "\\item 'i'\n",
       "\\item 'indata'\n",
       "\\item 'inTrain'\n",
       "\\item 'lineamrmodel'\n",
       "\\item 'multiplot'\n",
       "\\item 'p1'\n",
       "\\item 'plots'\n",
       "\\item 'pp'\n",
       "\\item 'test'\n",
       "\\item 'testx'\n",
       "\\item 'train'\n",
       "\\item 'var'\n",
       "\\item 'x'\n",
       "\\item 'y'\n",
       "\\end{enumerate*}\n"
      ],
      "text/markdown": [
       "1. 'bestmodel'\n",
       "2. 'coeff'\n",
       "3. 'col'\n",
       "4. 'corr_mat'\n",
       "5. 'cv.out'\n",
       "6. 'i'\n",
       "7. 'indata'\n",
       "8. 'inTrain'\n",
       "9. 'lineamrmodel'\n",
       "10. 'multiplot'\n",
       "11. 'p1'\n",
       "12. 'plots'\n",
       "13. 'pp'\n",
       "14. 'test'\n",
       "15. 'testx'\n",
       "16. 'train'\n",
       "17. 'var'\n",
       "18. 'x'\n",
       "19. 'y'\n",
       "\n",
       "\n"
      ],
      "text/plain": [
       " [1] \"bestmodel\"    \"coeff\"        \"col\"          \"corr_mat\"     \"cv.out\"      \n",
       " [6] \"i\"            \"indata\"       \"inTrain\"      \"lineamrmodel\" \"multiplot\"   \n",
       "[11] \"p1\"           \"plots\"        \"pp\"           \"test\"         \"testx\"       \n",
       "[16] \"train\"        \"var\"          \"x\"            \"y\"           "
      ]
     },
     "metadata": {},
     "output_type": "display_data"
    }
   ],
   "source": [
    "ls()"
   ]
  },
  {
   "cell_type": "code",
   "execution_count": 5,
   "metadata": {
    "collapsed": false
   },
   "outputs": [
    {
     "name": "stderr",
     "output_type": "stream",
     "text": [
      "Loading required package: Matrix\n",
      "Loading required package: foreach\n",
      "Loaded glmnet 2.0-2\n",
      "\n"
     ]
    }
   ],
   "source": [
    "library(glmnet)"
   ]
  },
  {
   "cell_type": "code",
   "execution_count": null,
   "metadata": {
    "collapsed": true
   },
   "outputs": [],
   "source": [
    "library(glmnet)\n",
    "\n",
    "x <- model.matrix(loss ~ ., data = train)\n",
    "y <- train$loss\n",
    "testx <- model.matrix(loss ~ ., data = test)\n",
    "\n",
    "set.seed(1)\n",
    "cv.out <- cv.glmnet(x, y, alpha=0, nlambda=100, lambda.min.ratio=0.0001,type.measure = \"mae\")\n",
    "bestmodel <-glmnet(x,y,lambda=cv.out$lambda.min)\n"
   ]
  },
  {
   "cell_type": "code",
   "execution_count": 6,
   "metadata": {
    "collapsed": false
   },
   "outputs": [
    {
     "data": {
      "image/png": "[encoded data removed]",
      "text/plain": [
       "plot without title"
      ]
     },
     "metadata": {},
     "output_type": "display_data"
    }
   ],
   "source": [
    "plot(cv.out)"
   ]
  },
  {
   "cell_type": "code",
   "execution_count": null,
   "metadata": {
    "collapsed": true
   },
   "outputs": [],
   "source": [
    "pp <- predict(bestmodel,newx = testx)\n",
    "\n",
    "test$predicted <- pp\n",
    "test$error <- test$loss - test$predicted\n"
   ]
  },
  {
   "cell_type": "code",
   "execution_count": 9,
   "metadata": {
    "collapsed": false
   },
   "outputs": [
    {
     "data": {
      "text/html": [
       "1686.11332583382"
      ],
      "text/latex": [
       "1686.11332583382"
      ],
      "text/markdown": [
       "1686.11332583382"
      ],
      "text/plain": [
       "[1] 1686.113"
      ]
     },
     "metadata": {},
     "output_type": "display_data"
    }
   ],
   "source": [
    "mean(abs(test$error))"
   ]
  },
  {
   "cell_type": "markdown",
   "metadata": {},
   "source": [
    "** Ridge Regression error is 1686 **"
   ]
  },
  {
   "cell_type": "markdown",
   "metadata": {},
   "source": [
    "### Lasso Regresssion using glmnet "
   ]
  },
  {
   "cell_type": "code",
   "execution_count": 10,
   "metadata": {
    "collapsed": true
   },
   "outputs": [],
   "source": [
    "# lasso. we have to choose alpha as 1\n",
    "set.seed(1)\n",
    "cv.out.lasso <- cv.glmnet(x, y, alpha=1, nlambda=100, lambda.min.ratio=0.0001,type.measure = \"mae\")\n",
    "\n"
   ]
  },
  {
   "cell_type": "code",
   "execution_count": 14,
   "metadata": {
    "collapsed": false
   },
   "outputs": [],
   "source": [
    "bestmodel.lasso <-glmnet(x,y,lambda=cv.out.lasso$lambda.min)"
   ]
  },
  {
   "cell_type": "code",
   "execution_count": 16,
   "metadata": {
    "collapsed": true
   },
   "outputs": [],
   "source": [
    "test$predicted_lasso <- predict(bestmodel.lasso,newx = testx)"
   ]
  },
  {
   "cell_type": "code",
   "execution_count": 17,
   "metadata": {
    "collapsed": true
   },
   "outputs": [],
   "source": [
    "test$error_lasso <- test$loss - test$predicted_lasso"
   ]
  },
  {
   "cell_type": "code",
   "execution_count": 18,
   "metadata": {
    "collapsed": false
   },
   "outputs": [
    {
     "data": {
      "text/html": [
       "1298.13125924628"
      ],
      "text/latex": [
       "1298.13125924628"
      ],
      "text/markdown": [
       "1298.13125924628"
      ],
      "text/plain": [
       "[1] 1298.131"
      ]
     },
     "metadata": {},
     "output_type": "display_data"
    }
   ],
   "source": [
    "mean(abs(test$error_lasso))"
   ]
  },
  {
   "cell_type": "markdown",
   "metadata": {},
   "source": [
    "** Lasso Regression does better than Ridge.**"
   ]
  },
  {
   "cell_type": "code",
   "execution_count": 21,
   "metadata": {
    "collapsed": false
   },
   "outputs": [
    {
     "data": {
      "text/html": [
       "<table>\n",
       "<thead><tr><th scope=col>cat1</th><th scope=col>cat2</th><th scope=col>cat3</th><th scope=col>cat4</th><th scope=col>cat5</th><th scope=col>cat6</th><th scope=col>cat7</th><th scope=col>cat8</th><th scope=col>cat9</th><th scope=col>cat10</th><th scope=col>...</th><th scope=col>cont6</th><th scope=col>cont7</th><th scope=col>cont8</th><th scope=col>cont9</th><th scope=col>cont10</th><th scope=col>cont11</th><th scope=col>cont12</th><th scope=col>cont13</th><th scope=col>cont14</th><th scope=col>loss</th></tr></thead>\n",
       "<tbody>\n",
       "\t<tr><td>A       </td><td>B       </td><td>A       </td><td>B       </td><td>A       </td><td>A       </td><td>A       </td><td>A       </td><td>B       </td><td>A       </td><td>...     </td><td>0.718367</td><td>0.335060</td><td>0.30260 </td><td>0.67135 </td><td>0.83510 </td><td>0.569745</td><td>0.594646</td><td>0.822493</td><td>0.714843</td><td>2213.18 </td></tr>\n",
       "\t<tr><td>A       </td><td>B       </td><td>A       </td><td>A       </td><td>A       </td><td>A       </td><td>A       </td><td>A       </td><td>B       </td><td>B       </td><td>...     </td><td>0.438917</td><td>0.436585</td><td>0.60087 </td><td>0.35127 </td><td>0.43919 </td><td>0.338312</td><td>0.366307</td><td>0.611431</td><td>0.304496</td><td>1283.60 </td></tr>\n",
       "\t<tr><td>A       </td><td>B       </td><td>A       </td><td>A       </td><td>B       </td><td>A       </td><td>A       </td><td>A       </td><td>B       </td><td>B       </td><td>...     </td><td>0.289648</td><td>0.315545</td><td>0.27320 </td><td>0.26076 </td><td>0.32446 </td><td>0.381398</td><td>0.373424</td><td>0.195709</td><td>0.774425</td><td>3005.09 </td></tr>\n",
       "\t<tr><td>B       </td><td>B       </td><td>A       </td><td>B       </td><td>A       </td><td>A       </td><td>A       </td><td>A       </td><td>B       </td><td>A       </td><td>...     </td><td>0.440945</td><td>0.391128</td><td>0.31796 </td><td>0.32128 </td><td>0.44467 </td><td>0.327915</td><td>0.321570</td><td>0.605077</td><td>0.602642</td><td> 939.85 </td></tr>\n",
       "\t<tr><td>A       </td><td>B       </td><td>A       </td><td>B       </td><td>A       </td><td>A       </td><td>A       </td><td>A       </td><td>B       </td><td>B       </td><td>...     </td><td>0.178193</td><td>0.247408</td><td>0.24564 </td><td>0.22089 </td><td>0.21230 </td><td>0.204687</td><td>0.202213</td><td>0.246011</td><td>0.432606</td><td>2763.85 </td></tr>\n",
       "\t<tr><td>A       </td><td>B       </td><td>A       </td><td>A       </td><td>A       </td><td>A       </td><td>A       </td><td>A       </td><td>B       </td><td>A       </td><td>...     </td><td>0.364464</td><td>0.401162</td><td>0.26847 </td><td>0.46226 </td><td>0.50556 </td><td>0.366788</td><td>0.359249</td><td>0.345247</td><td>0.726792</td><td>5142.87 </td></tr>\n",
       "</tbody>\n",
       "</table>\n"
      ],
      "text/latex": [
       "\\begin{tabular}{r|lllllllllllllllllllllllllllllllllllllllllllllllllllllllllllllllllllllllllllllllllllllllllllllllllllllllllllllllllllllllllllllllllll}\n",
       " cat1 & cat2 & cat3 & cat4 & cat5 & cat6 & cat7 & cat8 & cat9 & cat10 & ... & cont6 & cont7 & cont8 & cont9 & cont10 & cont11 & cont12 & cont13 & cont14 & loss\\\\\n",
       "\\hline\n",
       "\t A        & B        & A        & B        & A        & A        & A        & A        & B        & A        & ...      & 0.718367 & 0.335060 & 0.30260  & 0.67135  & 0.83510  & 0.569745 & 0.594646 & 0.822493 & 0.714843 & 2213.18 \\\\\n",
       "\t A        & B        & A        & A        & A        & A        & A        & A        & B        & B        & ...      & 0.438917 & 0.436585 & 0.60087  & 0.35127  & 0.43919  & 0.338312 & 0.366307 & 0.611431 & 0.304496 & 1283.60 \\\\\n",
       "\t A        & B        & A        & A        & B        & A        & A        & A        & B        & B        & ...      & 0.289648 & 0.315545 & 0.27320  & 0.26076  & 0.32446  & 0.381398 & 0.373424 & 0.195709 & 0.774425 & 3005.09 \\\\\n",
       "\t B        & B        & A        & B        & A        & A        & A        & A        & B        & A        & ...      & 0.440945 & 0.391128 & 0.31796  & 0.32128  & 0.44467  & 0.327915 & 0.321570 & 0.605077 & 0.602642 &  939.85 \\\\\n",
       "\t A        & B        & A        & B        & A        & A        & A        & A        & B        & B        & ...      & 0.178193 & 0.247408 & 0.24564  & 0.22089  & 0.21230  & 0.204687 & 0.202213 & 0.246011 & 0.432606 & 2763.85 \\\\\n",
       "\t A        & B        & A        & A        & A        & A        & A        & A        & B        & A        & ...      & 0.364464 & 0.401162 & 0.26847  & 0.46226  & 0.50556  & 0.366788 & 0.359249 & 0.345247 & 0.726792 & 5142.87 \\\\\n",
       "\\end{tabular}\n"
      ],
      "text/markdown": [
       "\n",
       "cat1 | cat2 | cat3 | cat4 | cat5 | cat6 | cat7 | cat8 | cat9 | cat10 | ... | cont6 | cont7 | cont8 | cont9 | cont10 | cont11 | cont12 | cont13 | cont14 | loss | \n",
       "|---|---|---|---|---|---|\n",
       "| A        | B        | A        | B        | A        | A        | A        | A        | B        | A        | ...      | 0.718367 | 0.335060 | 0.30260  | 0.67135  | 0.83510  | 0.569745 | 0.594646 | 0.822493 | 0.714843 | 2213.18  | \n",
       "| A        | B        | A        | A        | A        | A        | A        | A        | B        | B        | ...      | 0.438917 | 0.436585 | 0.60087  | 0.35127  | 0.43919  | 0.338312 | 0.366307 | 0.611431 | 0.304496 | 1283.60  | \n",
       "| A        | B        | A        | A        | B        | A        | A        | A        | B        | B        | ...      | 0.289648 | 0.315545 | 0.27320  | 0.26076  | 0.32446  | 0.381398 | 0.373424 | 0.195709 | 0.774425 | 3005.09  | \n",
       "| B        | B        | A        | B        | A        | A        | A        | A        | B        | A        | ...      | 0.440945 | 0.391128 | 0.31796  | 0.32128  | 0.44467  | 0.327915 | 0.321570 | 0.605077 | 0.602642 |  939.85  | \n",
       "| A        | B        | A        | B        | A        | A        | A        | A        | B        | B        | ...      | 0.178193 | 0.247408 | 0.24564  | 0.22089  | 0.21230  | 0.204687 | 0.202213 | 0.246011 | 0.432606 | 2763.85  | \n",
       "| A        | B        | A        | A        | A        | A        | A        | A        | B        | A        | ...      | 0.364464 | 0.401162 | 0.26847  | 0.46226  | 0.50556  | 0.366788 | 0.359249 | 0.345247 | 0.726792 | 5142.87  | \n",
       "\n",
       "\n"
      ],
      "text/plain": [
       "  cat1 cat2 cat3 cat4 cat5 cat6 cat7 cat8 cat9 cat10 ... cont6    cont7   \n",
       "1 A    B    A    B    A    A    A    A    B    A     ... 0.718367 0.335060\n",
       "2 A    B    A    A    A    A    A    A    B    B     ... 0.438917 0.436585\n",
       "3 A    B    A    A    B    A    A    A    B    B     ... 0.289648 0.315545\n",
       "4 B    B    A    B    A    A    A    A    B    A     ... 0.440945 0.391128\n",
       "5 A    B    A    B    A    A    A    A    B    B     ... 0.178193 0.247408\n",
       "6 A    B    A    A    A    A    A    A    B    A     ... 0.364464 0.401162\n",
       "  cont8   cont9   cont10  cont11   cont12   cont13   cont14   loss   \n",
       "1 0.30260 0.67135 0.83510 0.569745 0.594646 0.822493 0.714843 2213.18\n",
       "2 0.60087 0.35127 0.43919 0.338312 0.366307 0.611431 0.304496 1283.60\n",
       "3 0.27320 0.26076 0.32446 0.381398 0.373424 0.195709 0.774425 3005.09\n",
       "4 0.31796 0.32128 0.44467 0.327915 0.321570 0.605077 0.602642  939.85\n",
       "5 0.24564 0.22089 0.21230 0.204687 0.202213 0.246011 0.432606 2763.85\n",
       "6 0.26847 0.46226 0.50556 0.366788 0.359249 0.345247 0.726792 5142.87"
      ]
     },
     "metadata": {},
     "output_type": "display_data"
    }
   ],
   "source": [
    "head(train[-c(1)])"
   ]
  },
  {
   "cell_type": "code",
   "execution_count": 22,
   "metadata": {
    "collapsed": true
   },
   "outputs": [],
   "source": [
    "library(rpart)\n",
    "\n",
    "# growing regression tree \n",
    "rpart.fit <- rpart(loss ~.,method=\"anova\", data=train[-c(1)])"
   ]
  },
  {
   "cell_type": "code",
   "execution_count": 23,
   "metadata": {
    "collapsed": false
   },
   "outputs": [
    {
     "name": "stdout",
     "output_type": "stream",
     "text": [
      "\n",
      "Regression tree:\n",
      "rpart(formula = loss ~ ., data = train[-c(1)], method = \"anova\")\n",
      "\n",
      "Variables actually used in tree construction:\n",
      "[1] cat100 cat116 cat12  cat57  cat79  cat80  cont2  cont7 \n",
      "\n",
      "Root node error: 1.1852e+12/141240 = 8391207\n",
      "\n",
      "n= 141240 \n",
      "\n",
      "        CP nsplit rel error  xerror     xstd\n",
      "1 0.231280      0   1.00000 1.00001 0.016611\n",
      "2 0.048707      1   0.76872 0.76876 0.014946\n",
      "3 0.031750      2   0.72001 0.72011 0.014674\n",
      "4 0.016675      3   0.68826 0.68837 0.014456\n",
      "5 0.015043      4   0.67159 0.67298 0.014513\n",
      "6 0.013322      5   0.65654 0.66170 0.014254\n",
      "7 0.011471      6   0.64322 0.65791 0.014224\n",
      "8 0.010427      7   0.63175 0.64836 0.013819\n",
      "9 0.010000      8   0.62132 0.63676 0.013782\n"
     ]
    }
   ],
   "source": [
    "printcp(rpart.fit)"
   ]
  },
  {
   "cell_type": "code",
   "execution_count": 24,
   "metadata": {
    "collapsed": true
   },
   "outputs": [],
   "source": [
    "prune.fit<- prune(rpart.fit, cp=0.01) "
   ]
  },
  {
   "cell_type": "code",
   "execution_count": 27,
   "metadata": {
    "collapsed": false
   },
   "outputs": [
    {
     "data": {
      "text/html": [
       "<ol class=list-inline>\n",
       "\t<li>'bestmodel'</li>\n",
       "\t<li>'bestmodel.lasso'</li>\n",
       "\t<li>'coeff'</li>\n",
       "\t<li>'col'</li>\n",
       "\t<li>'corr_mat'</li>\n",
       "\t<li>'cv.out'</li>\n",
       "\t<li>'cv.out.lasso'</li>\n",
       "\t<li>'i'</li>\n",
       "\t<li>'indata'</li>\n",
       "\t<li>'inTrain'</li>\n",
       "\t<li>'lineamrmodel'</li>\n",
       "\t<li>'multiplot'</li>\n",
       "\t<li>'p1'</li>\n",
       "\t<li>'plots'</li>\n",
       "\t<li>'pp'</li>\n",
       "\t<li>'prune.fit'</li>\n",
       "\t<li>'rpart.fit'</li>\n",
       "\t<li>'test'</li>\n",
       "\t<li>'testx'</li>\n",
       "\t<li>'train'</li>\n",
       "\t<li>'var'</li>\n",
       "\t<li>'x'</li>\n",
       "\t<li>'y'</li>\n",
       "</ol>\n"
      ],
      "text/latex": [
       "\\begin{enumerate*}\n",
       "\\item 'bestmodel'\n",
       "\\item 'bestmodel.lasso'\n",
       "\\item 'coeff'\n",
       "\\item 'col'\n",
       "\\item 'corr\\_mat'\n",
       "\\item 'cv.out'\n",
       "\\item 'cv.out.lasso'\n",
       "\\item 'i'\n",
       "\\item 'indata'\n",
       "\\item 'inTrain'\n",
       "\\item 'lineamrmodel'\n",
       "\\item 'multiplot'\n",
       "\\item 'p1'\n",
       "\\item 'plots'\n",
       "\\item 'pp'\n",
       "\\item 'prune.fit'\n",
       "\\item 'rpart.fit'\n",
       "\\item 'test'\n",
       "\\item 'testx'\n",
       "\\item 'train'\n",
       "\\item 'var'\n",
       "\\item 'x'\n",
       "\\item 'y'\n",
       "\\end{enumerate*}\n"
      ],
      "text/markdown": [
       "1. 'bestmodel'\n",
       "2. 'bestmodel.lasso'\n",
       "3. 'coeff'\n",
       "4. 'col'\n",
       "5. 'corr_mat'\n",
       "6. 'cv.out'\n",
       "7. 'cv.out.lasso'\n",
       "8. 'i'\n",
       "9. 'indata'\n",
       "10. 'inTrain'\n",
       "11. 'lineamrmodel'\n",
       "12. 'multiplot'\n",
       "13. 'p1'\n",
       "14. 'plots'\n",
       "15. 'pp'\n",
       "16. 'prune.fit'\n",
       "17. 'rpart.fit'\n",
       "18. 'test'\n",
       "19. 'testx'\n",
       "20. 'train'\n",
       "21. 'var'\n",
       "22. 'x'\n",
       "23. 'y'\n",
       "\n",
       "\n"
      ],
      "text/plain": [
       " [1] \"bestmodel\"       \"bestmodel.lasso\" \"coeff\"           \"col\"            \n",
       " [5] \"corr_mat\"        \"cv.out\"          \"cv.out.lasso\"    \"i\"              \n",
       " [9] \"indata\"          \"inTrain\"         \"lineamrmodel\"    \"multiplot\"      \n",
       "[13] \"p1\"              \"plots\"           \"pp\"              \"prune.fit\"      \n",
       "[17] \"rpart.fit\"       \"test\"            \"testx\"           \"train\"          \n",
       "[21] \"var\"             \"x\"               \"y\"              "
      ]
     },
     "metadata": {},
     "output_type": "display_data"
    }
   ],
   "source": [
    "ls()"
   ]
  },
  {
   "cell_type": "code",
   "execution_count": 28,
   "metadata": {
    "collapsed": false
   },
   "outputs": [
    {
     "data": {
      "text/html": [
       "<ol class=list-inline>\n",
       "\t<li>47078</li>\n",
       "\t<li>1039</li>\n",
       "</ol>\n"
      ],
      "text/latex": [
       "\\begin{enumerate*}\n",
       "\\item 47078\n",
       "\\item 1039\n",
       "\\end{enumerate*}\n"
      ],
      "text/markdown": [
       "1. 47078\n",
       "2. 1039\n",
       "\n",
       "\n"
      ],
      "text/plain": [
       "[1] 47078  1039"
      ]
     },
     "metadata": {},
     "output_type": "display_data"
    }
   ],
   "source": [
    "dim(testx)"
   ]
  },
  {
   "cell_type": "code",
   "execution_count": 30,
   "metadata": {
    "collapsed": false
   },
   "outputs": [],
   "source": [
    "test$predict_rpart <- predict(prune.fit,newdata = test)"
   ]
  },
  {
   "cell_type": "code",
   "execution_count": 37,
   "metadata": {
    "collapsed": false
   },
   "outputs": [
    {
     "data": {
      "text/html": [
       "47078"
      ],
      "text/latex": [
       "47078"
      ],
      "text/markdown": [
       "47078"
      ],
      "text/plain": [
       "[1] 47078"
      ]
     },
     "metadata": {},
     "output_type": "display_data"
    }
   ],
   "source": [
    "length(test$loss)"
   ]
  },
  {
   "cell_type": "code",
   "execution_count": 41,
   "metadata": {
    "collapsed": false
   },
   "outputs": [],
   "source": [
    "test$rpart.error <- test$loss-test$predict_rpart"
   ]
  },
  {
   "cell_type": "code",
   "execution_count": 42,
   "metadata": {
    "collapsed": false
   },
   "outputs": [
    {
     "data": {
      "text/html": [
       "1485.55961970746"
      ],
      "text/latex": [
       "1485.55961970746"
      ],
      "text/markdown": [
       "1485.55961970746"
      ],
      "text/plain": [
       "[1] 1485.56"
      ]
     },
     "metadata": {},
     "output_type": "display_data"
    }
   ],
   "source": [
    "mean(abs(rpart.error))"
   ]
  },
  {
   "cell_type": "markdown",
   "metadata": {},
   "source": [
    "** rpart error 1485 **"
   ]
  },
  {
   "cell_type": "markdown",
   "metadata": {},
   "source": [
    "## Building a random forest model"
   ]
  },
  {
   "cell_type": "code",
   "execution_count": 7,
   "metadata": {
    "collapsed": false
   },
   "outputs": [
    {
     "name": "stderr",
     "output_type": "stream",
     "text": [
      "Warning message:\n",
      "\"package 'caret' was built under R version 3.2.5\"Loading required package: lattice\n",
      "Loading required package: ggplot2\n",
      "Warning message:\n",
      "\"package 'ggplot2' was built under R version 3.2.5\""
     ]
    }
   ],
   "source": [
    "library(caret)\n",
    "maeSummary <- function (data,\n",
    "                        lev = NULL,\n",
    "                        model = NULL) {\n",
    "   library(Metrics)\n",
    "   out <- mae(data$obs, data$pred)  \n",
    "   names(out) <- \"MAE\"\n",
    "   out\n",
    "}\n"
   ]
  },
  {
   "cell_type": "code",
   "execution_count": null,
   "metadata": {
    "collapsed": false
   },
   "outputs": [
    {
     "name": "stderr",
     "output_type": "stream",
     "text": [
      "Loading required package: randomForest\n",
      "randomForest 4.6-12\n",
      "Type rfNews() to see new features/changes/bug fixes.\n",
      "\n",
      "Attaching package: 'randomForest'\n",
      "\n",
      "The following object is masked from 'package:ggplot2':\n",
      "\n",
      "    margin\n",
      "\n",
      "Warning message in train.default(x, y, weights = w, ...):\n",
      "\"cannnot compute class probabilities for regression\""
     ]
    }
   ],
   "source": [
    "control <- trainControl(method=\"repeatedcv\", number=10, repeats=3, summaryFunction = maeSummary,classProbs = FALSE)\n",
    "set.seed(1234)\n",
    "tunegrid <- expand.grid(.mtry=c(5:20))\n",
    "rf_gridsearch <- train(loss~., data=train[-c(1)], method=\"rf\", metric=\"MAE\", tuneGrid=tunegrid, trControl=control)"
   ]
  },
  {
   "cell_type": "code",
   "execution_count": 4,
   "metadata": {
    "collapsed": false
   },
   "outputs": [],
   "source": [
    "load(\"Allstate.RData\")"
   ]
  },
  {
   "cell_type": "code",
   "execution_count": 6,
   "metadata": {
    "collapsed": false
   },
   "outputs": [
    {
     "data": {
      "text/html": [
       "<table>\n",
       "<thead><tr><th></th><th scope=col>id</th><th scope=col>cat1</th><th scope=col>cat2</th><th scope=col>cat3</th><th scope=col>cat4</th><th scope=col>cat5</th><th scope=col>cat6</th><th scope=col>cat7</th><th scope=col>cat8</th><th scope=col>cat9</th><th scope=col>...</th><th scope=col>cont8</th><th scope=col>cont9</th><th scope=col>cont10</th><th scope=col>cont11</th><th scope=col>cont12</th><th scope=col>cont13</th><th scope=col>cont14</th><th scope=col>loss</th><th scope=col>predicted</th><th scope=col>error</th></tr></thead>\n",
       "<tbody>\n",
       "\t<tr><th scope=row>9</th><td>23        </td><td>A         </td><td>B         </td><td>B         </td><td>B         </td><td>B         </td><td>A         </td><td>A         </td><td>A         </td><td>B         </td><td>...       </td><td>0.61229   </td><td>0.38249   </td><td>0.51111   </td><td>0.682315  </td><td>0.669033  </td><td>0.756454  </td><td>0.361191  </td><td>10280.20  </td><td>4758.068  </td><td> 5522.1317</td></tr>\n",
       "\t<tr><th scope=row>10</th><td>24        </td><td>A         </td><td>B         </td><td>A         </td><td>A         </td><td>B         </td><td>B         </td><td>A         </td><td>A         </td><td>B         </td><td>...       </td><td>0.30260   </td><td>0.67135   </td><td>0.83510   </td><td>0.863052  </td><td>0.879347  </td><td>0.822493  </td><td>0.294523  </td><td> 6184.59  </td><td>3732.274  </td><td> 2452.3155</td></tr>\n",
       "\t<tr><th scope=row>22</th><td>60        </td><td>A         </td><td>A         </td><td>A         </td><td>B         </td><td>A         </td><td>B         </td><td>A         </td><td>A         </td><td>A         </td><td>...       </td><td>0.81542   </td><td>0.32311   </td><td>0.36458   </td><td>0.453334  </td><td>0.454705  </td><td>0.651733  </td><td>0.354002  </td><td>  891.14  </td><td>2584.652  </td><td>-1693.5122</td></tr>\n",
       "\t<tr><th scope=row>25</th><td>73        </td><td>B         </td><td>A         </td><td>A         </td><td>A         </td><td>A         </td><td>A         </td><td>A         </td><td>A         </td><td>A         </td><td>...       </td><td>0.33906   </td><td>0.47900   </td><td>0.54433   </td><td>0.812519  </td><td>0.800726  </td><td>0.246011  </td><td>0.215055  </td><td> 7256.49  </td><td>3200.790  </td><td> 4055.6997</td></tr>\n",
       "\t<tr><th scope=row>28</th><td>89        </td><td>B         </td><td>A         </td><td>A         </td><td>B         </td><td>A         </td><td>A         </td><td>A         </td><td>A         </td><td>A         </td><td>...       </td><td>0.36083   </td><td>0.44352   </td><td>0.45017   </td><td>0.291268  </td><td>0.295524  </td><td>0.339244  </td><td>0.804795  </td><td> 2163.97  </td><td>2584.652  </td><td> -420.6822</td></tr>\n",
       "\t<tr><th scope=row>30</th><td>93        </td><td>A         </td><td>A         </td><td>A         </td><td>A         </td><td>B         </td><td>A         </td><td>A         </td><td>A         </td><td>A         </td><td>...       </td><td>0.34445   </td><td>0.52728   </td><td>0.79139   </td><td>0.377724  </td><td>0.369858  </td><td>0.687115  </td><td>0.297788  </td><td> 1753.50  </td><td>2584.652  </td><td> -831.1522</td></tr>\n",
       "</tbody>\n",
       "</table>\n"
      ],
      "text/latex": [
       "\\begin{tabular}{r|llllllllllllllllllllllllllllllllllllllllllllllllllllllllllllllllllllllllllllllllllllllllllllllllllllllllllllllllllllllllllllllllllllll}\n",
       "  & id & cat1 & cat2 & cat3 & cat4 & cat5 & cat6 & cat7 & cat8 & cat9 & ... & cont8 & cont9 & cont10 & cont11 & cont12 & cont13 & cont14 & loss & predicted & error\\\\\n",
       "\\hline\n",
       "\t9 & 23         & A          & B          & B          & B          & B          & A          & A          & A          & B          & ...        & 0.61229    & 0.38249    & 0.51111    & 0.682315   & 0.669033   & 0.756454   & 0.361191   & 10280.20   & 4758.068   &  5522.1317\\\\\n",
       "\t10 & 24         & A          & B          & A          & A          & B          & B          & A          & A          & B          & ...        & 0.30260    & 0.67135    & 0.83510    & 0.863052   & 0.879347   & 0.822493   & 0.294523   &  6184.59   & 3732.274   &  2452.3155\\\\\n",
       "\t22 & 60         & A          & A          & A          & B          & A          & B          & A          & A          & A          & ...        & 0.81542    & 0.32311    & 0.36458    & 0.453334   & 0.454705   & 0.651733   & 0.354002   &   891.14   & 2584.652   & -1693.5122\\\\\n",
       "\t25 & 73         & B          & A          & A          & A          & A          & A          & A          & A          & A          & ...        & 0.33906    & 0.47900    & 0.54433    & 0.812519   & 0.800726   & 0.246011   & 0.215055   &  7256.49   & 3200.790   &  4055.6997\\\\\n",
       "\t28 & 89         & B          & A          & A          & B          & A          & A          & A          & A          & A          & ...        & 0.36083    & 0.44352    & 0.45017    & 0.291268   & 0.295524   & 0.339244   & 0.804795   &  2163.97   & 2584.652   &  -420.6822\\\\\n",
       "\t30 & 93         & A          & A          & A          & A          & B          & A          & A          & A          & A          & ...        & 0.34445    & 0.52728    & 0.79139    & 0.377724   & 0.369858   & 0.687115   & 0.297788   &  1753.50   & 2584.652   &  -831.1522\\\\\n",
       "\\end{tabular}\n"
      ],
      "text/markdown": [
       "\n",
       "| <!--/--> | id | cat1 | cat2 | cat3 | cat4 | cat5 | cat6 | cat7 | cat8 | cat9 | ... | cont8 | cont9 | cont10 | cont11 | cont12 | cont13 | cont14 | loss | predicted | error | \n",
       "|---|---|---|---|---|---|\n",
       "| 9 | 23         | A          | B          | B          | B          | B          | A          | A          | A          | B          | ...        | 0.61229    | 0.38249    | 0.51111    | 0.682315   | 0.669033   | 0.756454   | 0.361191   | 10280.20   | 4758.068   |  5522.1317 | \n",
       "| 10 | 24         | A          | B          | A          | A          | B          | B          | A          | A          | B          | ...        | 0.30260    | 0.67135    | 0.83510    | 0.863052   | 0.879347   | 0.822493   | 0.294523   |  6184.59   | 3732.274   |  2452.3155 | \n",
       "| 22 | 60         | A          | A          | A          | B          | A          | B          | A          | A          | A          | ...        | 0.81542    | 0.32311    | 0.36458    | 0.453334   | 0.454705   | 0.651733   | 0.354002   |   891.14   | 2584.652   | -1693.5122 | \n",
       "| 25 | 73         | B          | A          | A          | A          | A          | A          | A          | A          | A          | ...        | 0.33906    | 0.47900    | 0.54433    | 0.812519   | 0.800726   | 0.246011   | 0.215055   |  7256.49   | 3200.790   |  4055.6997 | \n",
       "| 28 | 89         | B          | A          | A          | B          | A          | A          | A          | A          | A          | ...        | 0.36083    | 0.44352    | 0.45017    | 0.291268   | 0.295524   | 0.339244   | 0.804795   |  2163.97   | 2584.652   |  -420.6822 | \n",
       "| 30 | 93         | A          | A          | A          | A          | B          | A          | A          | A          | A          | ...        | 0.34445    | 0.52728    | 0.79139    | 0.377724   | 0.369858   | 0.687115   | 0.297788   |  1753.50   | 2584.652   |  -831.1522 | \n",
       "\n",
       "\n"
      ],
      "text/plain": [
       "   id cat1 cat2 cat3 cat4 cat5 cat6 cat7 cat8 cat9 ... cont8   cont9   cont10 \n",
       "9  23 A    B    B    B    B    A    A    A    B    ... 0.61229 0.38249 0.51111\n",
       "10 24 A    B    A    A    B    B    A    A    B    ... 0.30260 0.67135 0.83510\n",
       "22 60 A    A    A    B    A    B    A    A    A    ... 0.81542 0.32311 0.36458\n",
       "25 73 B    A    A    A    A    A    A    A    A    ... 0.33906 0.47900 0.54433\n",
       "28 89 B    A    A    B    A    A    A    A    A    ... 0.36083 0.44352 0.45017\n",
       "30 93 A    A    A    A    B    A    A    A    A    ... 0.34445 0.52728 0.79139\n",
       "   cont11   cont12   cont13   cont14   loss     predicted error     \n",
       "9  0.682315 0.669033 0.756454 0.361191 10280.20 4758.068   5522.1317\n",
       "10 0.863052 0.879347 0.822493 0.294523  6184.59 3732.274   2452.3155\n",
       "22 0.453334 0.454705 0.651733 0.354002   891.14 2584.652  -1693.5122\n",
       "25 0.812519 0.800726 0.246011 0.215055  7256.49 3200.790   4055.6997\n",
       "28 0.291268 0.295524 0.339244 0.804795  2163.97 2584.652   -420.6822\n",
       "30 0.377724 0.369858 0.687115 0.297788  1753.50 2584.652   -831.1522"
      ]
     },
     "metadata": {},
     "output_type": "display_data"
    }
   ],
   "source": [
    "head(test)"
   ]
  }
 ],
 "metadata": {
  "kernelspec": {
   "display_name": "R",
   "language": "R",
   "name": "ir"
  },
  "language_info": {
   "codemirror_mode": "r",
   "file_extension": ".r",
   "mimetype": "text/x-r-source",
   "name": "R",
   "pygments_lexer": "r",
   "version": "3.2.3"
  }
 },
 "nbformat": 4,
 "nbformat_minor": 2
}
